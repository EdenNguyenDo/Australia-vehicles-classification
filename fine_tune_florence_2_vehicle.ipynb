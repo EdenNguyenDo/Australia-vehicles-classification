{
  "nbformat": 4,
  "nbformat_minor": 0,
  "metadata": {
    "colab": {
      "provenance": [],
      "gpuType": "A100",
      "machine_shape": "hm",
      "authorship_tag": "ABX9TyOzsS5AFh5b2m3LUfeAhaRE",
      "include_colab_link": true
    },
    "kernelspec": {
      "name": "python3",
      "display_name": "Python 3"
    },
    "language_info": {
      "name": "python"
    },
    "accelerator": "GPU",
    "widgets": {
      "application/vnd.jupyter.widget-state+json": {
        "155c4c3424564fb0bd0676addc21327b": {
          "model_module": "@jupyter-widgets/controls",
          "model_name": "HBoxModel",
          "model_module_version": "1.5.0",
          "state": {
            "_dom_classes": [],
            "_model_module": "@jupyter-widgets/controls",
            "_model_module_version": "1.5.0",
            "_model_name": "HBoxModel",
            "_view_count": null,
            "_view_module": "@jupyter-widgets/controls",
            "_view_module_version": "1.5.0",
            "_view_name": "HBoxView",
            "box_style": "",
            "children": [
              "IPY_MODEL_6460e6c71c7543e3aeae38019068077a",
              "IPY_MODEL_d18f27b2cb1149c3806bd2267285988f",
              "IPY_MODEL_4cc289956743485d9c4afcf1161ddb03"
            ],
            "layout": "IPY_MODEL_3f8de6d99dd84f1ca5810e294b46f071"
          }
        },
        "6460e6c71c7543e3aeae38019068077a": {
          "model_module": "@jupyter-widgets/controls",
          "model_name": "HTMLModel",
          "model_module_version": "1.5.0",
          "state": {
            "_dom_classes": [],
            "_model_module": "@jupyter-widgets/controls",
            "_model_module_version": "1.5.0",
            "_model_name": "HTMLModel",
            "_view_count": null,
            "_view_module": "@jupyter-widgets/controls",
            "_view_module_version": "1.5.0",
            "_view_name": "HTMLView",
            "description": "",
            "description_tooltip": null,
            "layout": "IPY_MODEL_dc97f6bdf30f478797a7b080a5e0cabe",
            "placeholder": "​",
            "style": "IPY_MODEL_d5a26e33aa7f45849e27ad2ac61153eb",
            "value": "config.json: 100%"
          }
        },
        "d18f27b2cb1149c3806bd2267285988f": {
          "model_module": "@jupyter-widgets/controls",
          "model_name": "FloatProgressModel",
          "model_module_version": "1.5.0",
          "state": {
            "_dom_classes": [],
            "_model_module": "@jupyter-widgets/controls",
            "_model_module_version": "1.5.0",
            "_model_name": "FloatProgressModel",
            "_view_count": null,
            "_view_module": "@jupyter-widgets/controls",
            "_view_module_version": "1.5.0",
            "_view_name": "ProgressView",
            "bar_style": "success",
            "description": "",
            "description_tooltip": null,
            "layout": "IPY_MODEL_5a67201ba19d420b8c96c564e39c6296",
            "max": 2430,
            "min": 0,
            "orientation": "horizontal",
            "style": "IPY_MODEL_4587960c00ae4afb9911de86a855503a",
            "value": 2430
          }
        },
        "4cc289956743485d9c4afcf1161ddb03": {
          "model_module": "@jupyter-widgets/controls",
          "model_name": "HTMLModel",
          "model_module_version": "1.5.0",
          "state": {
            "_dom_classes": [],
            "_model_module": "@jupyter-widgets/controls",
            "_model_module_version": "1.5.0",
            "_model_name": "HTMLModel",
            "_view_count": null,
            "_view_module": "@jupyter-widgets/controls",
            "_view_module_version": "1.5.0",
            "_view_name": "HTMLView",
            "description": "",
            "description_tooltip": null,
            "layout": "IPY_MODEL_cc27506a369e4627a8bd4de9f928ea03",
            "placeholder": "​",
            "style": "IPY_MODEL_fdb419bb72e64765bcffeee31ad8bfbf",
            "value": " 2.43k/2.43k [00:00&lt;00:00, 200kB/s]"
          }
        },
        "3f8de6d99dd84f1ca5810e294b46f071": {
          "model_module": "@jupyter-widgets/base",
          "model_name": "LayoutModel",
          "model_module_version": "1.2.0",
          "state": {
            "_model_module": "@jupyter-widgets/base",
            "_model_module_version": "1.2.0",
            "_model_name": "LayoutModel",
            "_view_count": null,
            "_view_module": "@jupyter-widgets/base",
            "_view_module_version": "1.2.0",
            "_view_name": "LayoutView",
            "align_content": null,
            "align_items": null,
            "align_self": null,
            "border": null,
            "bottom": null,
            "display": null,
            "flex": null,
            "flex_flow": null,
            "grid_area": null,
            "grid_auto_columns": null,
            "grid_auto_flow": null,
            "grid_auto_rows": null,
            "grid_column": null,
            "grid_gap": null,
            "grid_row": null,
            "grid_template_areas": null,
            "grid_template_columns": null,
            "grid_template_rows": null,
            "height": null,
            "justify_content": null,
            "justify_items": null,
            "left": null,
            "margin": null,
            "max_height": null,
            "max_width": null,
            "min_height": null,
            "min_width": null,
            "object_fit": null,
            "object_position": null,
            "order": null,
            "overflow": null,
            "overflow_x": null,
            "overflow_y": null,
            "padding": null,
            "right": null,
            "top": null,
            "visibility": null,
            "width": null
          }
        },
        "dc97f6bdf30f478797a7b080a5e0cabe": {
          "model_module": "@jupyter-widgets/base",
          "model_name": "LayoutModel",
          "model_module_version": "1.2.0",
          "state": {
            "_model_module": "@jupyter-widgets/base",
            "_model_module_version": "1.2.0",
            "_model_name": "LayoutModel",
            "_view_count": null,
            "_view_module": "@jupyter-widgets/base",
            "_view_module_version": "1.2.0",
            "_view_name": "LayoutView",
            "align_content": null,
            "align_items": null,
            "align_self": null,
            "border": null,
            "bottom": null,
            "display": null,
            "flex": null,
            "flex_flow": null,
            "grid_area": null,
            "grid_auto_columns": null,
            "grid_auto_flow": null,
            "grid_auto_rows": null,
            "grid_column": null,
            "grid_gap": null,
            "grid_row": null,
            "grid_template_areas": null,
            "grid_template_columns": null,
            "grid_template_rows": null,
            "height": null,
            "justify_content": null,
            "justify_items": null,
            "left": null,
            "margin": null,
            "max_height": null,
            "max_width": null,
            "min_height": null,
            "min_width": null,
            "object_fit": null,
            "object_position": null,
            "order": null,
            "overflow": null,
            "overflow_x": null,
            "overflow_y": null,
            "padding": null,
            "right": null,
            "top": null,
            "visibility": null,
            "width": null
          }
        },
        "d5a26e33aa7f45849e27ad2ac61153eb": {
          "model_module": "@jupyter-widgets/controls",
          "model_name": "DescriptionStyleModel",
          "model_module_version": "1.5.0",
          "state": {
            "_model_module": "@jupyter-widgets/controls",
            "_model_module_version": "1.5.0",
            "_model_name": "DescriptionStyleModel",
            "_view_count": null,
            "_view_module": "@jupyter-widgets/base",
            "_view_module_version": "1.2.0",
            "_view_name": "StyleView",
            "description_width": ""
          }
        },
        "5a67201ba19d420b8c96c564e39c6296": {
          "model_module": "@jupyter-widgets/base",
          "model_name": "LayoutModel",
          "model_module_version": "1.2.0",
          "state": {
            "_model_module": "@jupyter-widgets/base",
            "_model_module_version": "1.2.0",
            "_model_name": "LayoutModel",
            "_view_count": null,
            "_view_module": "@jupyter-widgets/base",
            "_view_module_version": "1.2.0",
            "_view_name": "LayoutView",
            "align_content": null,
            "align_items": null,
            "align_self": null,
            "border": null,
            "bottom": null,
            "display": null,
            "flex": null,
            "flex_flow": null,
            "grid_area": null,
            "grid_auto_columns": null,
            "grid_auto_flow": null,
            "grid_auto_rows": null,
            "grid_column": null,
            "grid_gap": null,
            "grid_row": null,
            "grid_template_areas": null,
            "grid_template_columns": null,
            "grid_template_rows": null,
            "height": null,
            "justify_content": null,
            "justify_items": null,
            "left": null,
            "margin": null,
            "max_height": null,
            "max_width": null,
            "min_height": null,
            "min_width": null,
            "object_fit": null,
            "object_position": null,
            "order": null,
            "overflow": null,
            "overflow_x": null,
            "overflow_y": null,
            "padding": null,
            "right": null,
            "top": null,
            "visibility": null,
            "width": null
          }
        },
        "4587960c00ae4afb9911de86a855503a": {
          "model_module": "@jupyter-widgets/controls",
          "model_name": "ProgressStyleModel",
          "model_module_version": "1.5.0",
          "state": {
            "_model_module": "@jupyter-widgets/controls",
            "_model_module_version": "1.5.0",
            "_model_name": "ProgressStyleModel",
            "_view_count": null,
            "_view_module": "@jupyter-widgets/base",
            "_view_module_version": "1.2.0",
            "_view_name": "StyleView",
            "bar_color": null,
            "description_width": ""
          }
        },
        "cc27506a369e4627a8bd4de9f928ea03": {
          "model_module": "@jupyter-widgets/base",
          "model_name": "LayoutModel",
          "model_module_version": "1.2.0",
          "state": {
            "_model_module": "@jupyter-widgets/base",
            "_model_module_version": "1.2.0",
            "_model_name": "LayoutModel",
            "_view_count": null,
            "_view_module": "@jupyter-widgets/base",
            "_view_module_version": "1.2.0",
            "_view_name": "LayoutView",
            "align_content": null,
            "align_items": null,
            "align_self": null,
            "border": null,
            "bottom": null,
            "display": null,
            "flex": null,
            "flex_flow": null,
            "grid_area": null,
            "grid_auto_columns": null,
            "grid_auto_flow": null,
            "grid_auto_rows": null,
            "grid_column": null,
            "grid_gap": null,
            "grid_row": null,
            "grid_template_areas": null,
            "grid_template_columns": null,
            "grid_template_rows": null,
            "height": null,
            "justify_content": null,
            "justify_items": null,
            "left": null,
            "margin": null,
            "max_height": null,
            "max_width": null,
            "min_height": null,
            "min_width": null,
            "object_fit": null,
            "object_position": null,
            "order": null,
            "overflow": null,
            "overflow_x": null,
            "overflow_y": null,
            "padding": null,
            "right": null,
            "top": null,
            "visibility": null,
            "width": null
          }
        },
        "fdb419bb72e64765bcffeee31ad8bfbf": {
          "model_module": "@jupyter-widgets/controls",
          "model_name": "DescriptionStyleModel",
          "model_module_version": "1.5.0",
          "state": {
            "_model_module": "@jupyter-widgets/controls",
            "_model_module_version": "1.5.0",
            "_model_name": "DescriptionStyleModel",
            "_view_count": null,
            "_view_module": "@jupyter-widgets/base",
            "_view_module_version": "1.2.0",
            "_view_name": "StyleView",
            "description_width": ""
          }
        },
        "bd477c63f40644059b20dd48fffe8c38": {
          "model_module": "@jupyter-widgets/controls",
          "model_name": "HBoxModel",
          "model_module_version": "1.5.0",
          "state": {
            "_dom_classes": [],
            "_model_module": "@jupyter-widgets/controls",
            "_model_module_version": "1.5.0",
            "_model_name": "HBoxModel",
            "_view_count": null,
            "_view_module": "@jupyter-widgets/controls",
            "_view_module_version": "1.5.0",
            "_view_name": "HBoxView",
            "box_style": "",
            "children": [
              "IPY_MODEL_19b39f6e7d4e444db645c75395051b37",
              "IPY_MODEL_d5ee8d119cb740afa634bab07376cdb0",
              "IPY_MODEL_4b0ee4fe6cfb4e5ba8d0be999b60be95"
            ],
            "layout": "IPY_MODEL_5d88eedf20534d1d8fa92d17cce8b248"
          }
        },
        "19b39f6e7d4e444db645c75395051b37": {
          "model_module": "@jupyter-widgets/controls",
          "model_name": "HTMLModel",
          "model_module_version": "1.5.0",
          "state": {
            "_dom_classes": [],
            "_model_module": "@jupyter-widgets/controls",
            "_model_module_version": "1.5.0",
            "_model_name": "HTMLModel",
            "_view_count": null,
            "_view_module": "@jupyter-widgets/controls",
            "_view_module_version": "1.5.0",
            "_view_name": "HTMLView",
            "description": "",
            "description_tooltip": null,
            "layout": "IPY_MODEL_667816fff6d049b38a694fcfe98b8a94",
            "placeholder": "​",
            "style": "IPY_MODEL_d61ddb5f20b142ba985adee2c62b59e5",
            "value": "configuration_florence2.py: 100%"
          }
        },
        "d5ee8d119cb740afa634bab07376cdb0": {
          "model_module": "@jupyter-widgets/controls",
          "model_name": "FloatProgressModel",
          "model_module_version": "1.5.0",
          "state": {
            "_dom_classes": [],
            "_model_module": "@jupyter-widgets/controls",
            "_model_module_version": "1.5.0",
            "_model_name": "FloatProgressModel",
            "_view_count": null,
            "_view_module": "@jupyter-widgets/controls",
            "_view_module_version": "1.5.0",
            "_view_name": "ProgressView",
            "bar_style": "success",
            "description": "",
            "description_tooltip": null,
            "layout": "IPY_MODEL_908af115cd2f4f3d8403f1deddb85b91",
            "max": 15125,
            "min": 0,
            "orientation": "horizontal",
            "style": "IPY_MODEL_811743ab629d4639a85660db0ebbf6dd",
            "value": 15125
          }
        },
        "4b0ee4fe6cfb4e5ba8d0be999b60be95": {
          "model_module": "@jupyter-widgets/controls",
          "model_name": "HTMLModel",
          "model_module_version": "1.5.0",
          "state": {
            "_dom_classes": [],
            "_model_module": "@jupyter-widgets/controls",
            "_model_module_version": "1.5.0",
            "_model_name": "HTMLModel",
            "_view_count": null,
            "_view_module": "@jupyter-widgets/controls",
            "_view_module_version": "1.5.0",
            "_view_name": "HTMLView",
            "description": "",
            "description_tooltip": null,
            "layout": "IPY_MODEL_95e48adfe3af4b64a837d5118de43c9e",
            "placeholder": "​",
            "style": "IPY_MODEL_621991d4b9f644f89a9218c464fdf9e4",
            "value": " 15.1k/15.1k [00:00&lt;00:00, 1.13MB/s]"
          }
        },
        "5d88eedf20534d1d8fa92d17cce8b248": {
          "model_module": "@jupyter-widgets/base",
          "model_name": "LayoutModel",
          "model_module_version": "1.2.0",
          "state": {
            "_model_module": "@jupyter-widgets/base",
            "_model_module_version": "1.2.0",
            "_model_name": "LayoutModel",
            "_view_count": null,
            "_view_module": "@jupyter-widgets/base",
            "_view_module_version": "1.2.0",
            "_view_name": "LayoutView",
            "align_content": null,
            "align_items": null,
            "align_self": null,
            "border": null,
            "bottom": null,
            "display": null,
            "flex": null,
            "flex_flow": null,
            "grid_area": null,
            "grid_auto_columns": null,
            "grid_auto_flow": null,
            "grid_auto_rows": null,
            "grid_column": null,
            "grid_gap": null,
            "grid_row": null,
            "grid_template_areas": null,
            "grid_template_columns": null,
            "grid_template_rows": null,
            "height": null,
            "justify_content": null,
            "justify_items": null,
            "left": null,
            "margin": null,
            "max_height": null,
            "max_width": null,
            "min_height": null,
            "min_width": null,
            "object_fit": null,
            "object_position": null,
            "order": null,
            "overflow": null,
            "overflow_x": null,
            "overflow_y": null,
            "padding": null,
            "right": null,
            "top": null,
            "visibility": null,
            "width": null
          }
        },
        "667816fff6d049b38a694fcfe98b8a94": {
          "model_module": "@jupyter-widgets/base",
          "model_name": "LayoutModel",
          "model_module_version": "1.2.0",
          "state": {
            "_model_module": "@jupyter-widgets/base",
            "_model_module_version": "1.2.0",
            "_model_name": "LayoutModel",
            "_view_count": null,
            "_view_module": "@jupyter-widgets/base",
            "_view_module_version": "1.2.0",
            "_view_name": "LayoutView",
            "align_content": null,
            "align_items": null,
            "align_self": null,
            "border": null,
            "bottom": null,
            "display": null,
            "flex": null,
            "flex_flow": null,
            "grid_area": null,
            "grid_auto_columns": null,
            "grid_auto_flow": null,
            "grid_auto_rows": null,
            "grid_column": null,
            "grid_gap": null,
            "grid_row": null,
            "grid_template_areas": null,
            "grid_template_columns": null,
            "grid_template_rows": null,
            "height": null,
            "justify_content": null,
            "justify_items": null,
            "left": null,
            "margin": null,
            "max_height": null,
            "max_width": null,
            "min_height": null,
            "min_width": null,
            "object_fit": null,
            "object_position": null,
            "order": null,
            "overflow": null,
            "overflow_x": null,
            "overflow_y": null,
            "padding": null,
            "right": null,
            "top": null,
            "visibility": null,
            "width": null
          }
        },
        "d61ddb5f20b142ba985adee2c62b59e5": {
          "model_module": "@jupyter-widgets/controls",
          "model_name": "DescriptionStyleModel",
          "model_module_version": "1.5.0",
          "state": {
            "_model_module": "@jupyter-widgets/controls",
            "_model_module_version": "1.5.0",
            "_model_name": "DescriptionStyleModel",
            "_view_count": null,
            "_view_module": "@jupyter-widgets/base",
            "_view_module_version": "1.2.0",
            "_view_name": "StyleView",
            "description_width": ""
          }
        },
        "908af115cd2f4f3d8403f1deddb85b91": {
          "model_module": "@jupyter-widgets/base",
          "model_name": "LayoutModel",
          "model_module_version": "1.2.0",
          "state": {
            "_model_module": "@jupyter-widgets/base",
            "_model_module_version": "1.2.0",
            "_model_name": "LayoutModel",
            "_view_count": null,
            "_view_module": "@jupyter-widgets/base",
            "_view_module_version": "1.2.0",
            "_view_name": "LayoutView",
            "align_content": null,
            "align_items": null,
            "align_self": null,
            "border": null,
            "bottom": null,
            "display": null,
            "flex": null,
            "flex_flow": null,
            "grid_area": null,
            "grid_auto_columns": null,
            "grid_auto_flow": null,
            "grid_auto_rows": null,
            "grid_column": null,
            "grid_gap": null,
            "grid_row": null,
            "grid_template_areas": null,
            "grid_template_columns": null,
            "grid_template_rows": null,
            "height": null,
            "justify_content": null,
            "justify_items": null,
            "left": null,
            "margin": null,
            "max_height": null,
            "max_width": null,
            "min_height": null,
            "min_width": null,
            "object_fit": null,
            "object_position": null,
            "order": null,
            "overflow": null,
            "overflow_x": null,
            "overflow_y": null,
            "padding": null,
            "right": null,
            "top": null,
            "visibility": null,
            "width": null
          }
        },
        "811743ab629d4639a85660db0ebbf6dd": {
          "model_module": "@jupyter-widgets/controls",
          "model_name": "ProgressStyleModel",
          "model_module_version": "1.5.0",
          "state": {
            "_model_module": "@jupyter-widgets/controls",
            "_model_module_version": "1.5.0",
            "_model_name": "ProgressStyleModel",
            "_view_count": null,
            "_view_module": "@jupyter-widgets/base",
            "_view_module_version": "1.2.0",
            "_view_name": "StyleView",
            "bar_color": null,
            "description_width": ""
          }
        },
        "95e48adfe3af4b64a837d5118de43c9e": {
          "model_module": "@jupyter-widgets/base",
          "model_name": "LayoutModel",
          "model_module_version": "1.2.0",
          "state": {
            "_model_module": "@jupyter-widgets/base",
            "_model_module_version": "1.2.0",
            "_model_name": "LayoutModel",
            "_view_count": null,
            "_view_module": "@jupyter-widgets/base",
            "_view_module_version": "1.2.0",
            "_view_name": "LayoutView",
            "align_content": null,
            "align_items": null,
            "align_self": null,
            "border": null,
            "bottom": null,
            "display": null,
            "flex": null,
            "flex_flow": null,
            "grid_area": null,
            "grid_auto_columns": null,
            "grid_auto_flow": null,
            "grid_auto_rows": null,
            "grid_column": null,
            "grid_gap": null,
            "grid_row": null,
            "grid_template_areas": null,
            "grid_template_columns": null,
            "grid_template_rows": null,
            "height": null,
            "justify_content": null,
            "justify_items": null,
            "left": null,
            "margin": null,
            "max_height": null,
            "max_width": null,
            "min_height": null,
            "min_width": null,
            "object_fit": null,
            "object_position": null,
            "order": null,
            "overflow": null,
            "overflow_x": null,
            "overflow_y": null,
            "padding": null,
            "right": null,
            "top": null,
            "visibility": null,
            "width": null
          }
        },
        "621991d4b9f644f89a9218c464fdf9e4": {
          "model_module": "@jupyter-widgets/controls",
          "model_name": "DescriptionStyleModel",
          "model_module_version": "1.5.0",
          "state": {
            "_model_module": "@jupyter-widgets/controls",
            "_model_module_version": "1.5.0",
            "_model_name": "DescriptionStyleModel",
            "_view_count": null,
            "_view_module": "@jupyter-widgets/base",
            "_view_module_version": "1.2.0",
            "_view_name": "StyleView",
            "description_width": ""
          }
        },
        "ca7589dddd8b47bcb9872d1ece7d0e91": {
          "model_module": "@jupyter-widgets/controls",
          "model_name": "HBoxModel",
          "model_module_version": "1.5.0",
          "state": {
            "_dom_classes": [],
            "_model_module": "@jupyter-widgets/controls",
            "_model_module_version": "1.5.0",
            "_model_name": "HBoxModel",
            "_view_count": null,
            "_view_module": "@jupyter-widgets/controls",
            "_view_module_version": "1.5.0",
            "_view_name": "HBoxView",
            "box_style": "",
            "children": [
              "IPY_MODEL_01c17c1fbcbd45f1aecc78a2f7ec5af5",
              "IPY_MODEL_03bf7de4a0114d9da1e8403a477f4bc0",
              "IPY_MODEL_0e353e71e12e4a4494d45566070584f5"
            ],
            "layout": "IPY_MODEL_e1affc8c54164324bcaf1f95531e14a8"
          }
        },
        "01c17c1fbcbd45f1aecc78a2f7ec5af5": {
          "model_module": "@jupyter-widgets/controls",
          "model_name": "HTMLModel",
          "model_module_version": "1.5.0",
          "state": {
            "_dom_classes": [],
            "_model_module": "@jupyter-widgets/controls",
            "_model_module_version": "1.5.0",
            "_model_name": "HTMLModel",
            "_view_count": null,
            "_view_module": "@jupyter-widgets/controls",
            "_view_module_version": "1.5.0",
            "_view_name": "HTMLView",
            "description": "",
            "description_tooltip": null,
            "layout": "IPY_MODEL_310f6fcd0fe14128b05adaafb3ab8ec6",
            "placeholder": "​",
            "style": "IPY_MODEL_a91235d96b6e45f3b1d1ab682b8315bd",
            "value": "modeling_florence2.py: 100%"
          }
        },
        "03bf7de4a0114d9da1e8403a477f4bc0": {
          "model_module": "@jupyter-widgets/controls",
          "model_name": "FloatProgressModel",
          "model_module_version": "1.5.0",
          "state": {
            "_dom_classes": [],
            "_model_module": "@jupyter-widgets/controls",
            "_model_module_version": "1.5.0",
            "_model_name": "FloatProgressModel",
            "_view_count": null,
            "_view_module": "@jupyter-widgets/controls",
            "_view_module_version": "1.5.0",
            "_view_name": "ProgressView",
            "bar_style": "success",
            "description": "",
            "description_tooltip": null,
            "layout": "IPY_MODEL_e0184b07efed41eba2e4767a8ed8e8a3",
            "max": 127219,
            "min": 0,
            "orientation": "horizontal",
            "style": "IPY_MODEL_91adf69d496740389695630be0d40502",
            "value": 127219
          }
        },
        "0e353e71e12e4a4494d45566070584f5": {
          "model_module": "@jupyter-widgets/controls",
          "model_name": "HTMLModel",
          "model_module_version": "1.5.0",
          "state": {
            "_dom_classes": [],
            "_model_module": "@jupyter-widgets/controls",
            "_model_module_version": "1.5.0",
            "_model_name": "HTMLModel",
            "_view_count": null,
            "_view_module": "@jupyter-widgets/controls",
            "_view_module_version": "1.5.0",
            "_view_name": "HTMLView",
            "description": "",
            "description_tooltip": null,
            "layout": "IPY_MODEL_5dcb350f4bfc4f8c8a40f58391601e1b",
            "placeholder": "​",
            "style": "IPY_MODEL_236c59425be34987821459fd4cb6637b",
            "value": " 127k/127k [00:00&lt;00:00, 8.93MB/s]"
          }
        },
        "e1affc8c54164324bcaf1f95531e14a8": {
          "model_module": "@jupyter-widgets/base",
          "model_name": "LayoutModel",
          "model_module_version": "1.2.0",
          "state": {
            "_model_module": "@jupyter-widgets/base",
            "_model_module_version": "1.2.0",
            "_model_name": "LayoutModel",
            "_view_count": null,
            "_view_module": "@jupyter-widgets/base",
            "_view_module_version": "1.2.0",
            "_view_name": "LayoutView",
            "align_content": null,
            "align_items": null,
            "align_self": null,
            "border": null,
            "bottom": null,
            "display": null,
            "flex": null,
            "flex_flow": null,
            "grid_area": null,
            "grid_auto_columns": null,
            "grid_auto_flow": null,
            "grid_auto_rows": null,
            "grid_column": null,
            "grid_gap": null,
            "grid_row": null,
            "grid_template_areas": null,
            "grid_template_columns": null,
            "grid_template_rows": null,
            "height": null,
            "justify_content": null,
            "justify_items": null,
            "left": null,
            "margin": null,
            "max_height": null,
            "max_width": null,
            "min_height": null,
            "min_width": null,
            "object_fit": null,
            "object_position": null,
            "order": null,
            "overflow": null,
            "overflow_x": null,
            "overflow_y": null,
            "padding": null,
            "right": null,
            "top": null,
            "visibility": null,
            "width": null
          }
        },
        "310f6fcd0fe14128b05adaafb3ab8ec6": {
          "model_module": "@jupyter-widgets/base",
          "model_name": "LayoutModel",
          "model_module_version": "1.2.0",
          "state": {
            "_model_module": "@jupyter-widgets/base",
            "_model_module_version": "1.2.0",
            "_model_name": "LayoutModel",
            "_view_count": null,
            "_view_module": "@jupyter-widgets/base",
            "_view_module_version": "1.2.0",
            "_view_name": "LayoutView",
            "align_content": null,
            "align_items": null,
            "align_self": null,
            "border": null,
            "bottom": null,
            "display": null,
            "flex": null,
            "flex_flow": null,
            "grid_area": null,
            "grid_auto_columns": null,
            "grid_auto_flow": null,
            "grid_auto_rows": null,
            "grid_column": null,
            "grid_gap": null,
            "grid_row": null,
            "grid_template_areas": null,
            "grid_template_columns": null,
            "grid_template_rows": null,
            "height": null,
            "justify_content": null,
            "justify_items": null,
            "left": null,
            "margin": null,
            "max_height": null,
            "max_width": null,
            "min_height": null,
            "min_width": null,
            "object_fit": null,
            "object_position": null,
            "order": null,
            "overflow": null,
            "overflow_x": null,
            "overflow_y": null,
            "padding": null,
            "right": null,
            "top": null,
            "visibility": null,
            "width": null
          }
        },
        "a91235d96b6e45f3b1d1ab682b8315bd": {
          "model_module": "@jupyter-widgets/controls",
          "model_name": "DescriptionStyleModel",
          "model_module_version": "1.5.0",
          "state": {
            "_model_module": "@jupyter-widgets/controls",
            "_model_module_version": "1.5.0",
            "_model_name": "DescriptionStyleModel",
            "_view_count": null,
            "_view_module": "@jupyter-widgets/base",
            "_view_module_version": "1.2.0",
            "_view_name": "StyleView",
            "description_width": ""
          }
        },
        "e0184b07efed41eba2e4767a8ed8e8a3": {
          "model_module": "@jupyter-widgets/base",
          "model_name": "LayoutModel",
          "model_module_version": "1.2.0",
          "state": {
            "_model_module": "@jupyter-widgets/base",
            "_model_module_version": "1.2.0",
            "_model_name": "LayoutModel",
            "_view_count": null,
            "_view_module": "@jupyter-widgets/base",
            "_view_module_version": "1.2.0",
            "_view_name": "LayoutView",
            "align_content": null,
            "align_items": null,
            "align_self": null,
            "border": null,
            "bottom": null,
            "display": null,
            "flex": null,
            "flex_flow": null,
            "grid_area": null,
            "grid_auto_columns": null,
            "grid_auto_flow": null,
            "grid_auto_rows": null,
            "grid_column": null,
            "grid_gap": null,
            "grid_row": null,
            "grid_template_areas": null,
            "grid_template_columns": null,
            "grid_template_rows": null,
            "height": null,
            "justify_content": null,
            "justify_items": null,
            "left": null,
            "margin": null,
            "max_height": null,
            "max_width": null,
            "min_height": null,
            "min_width": null,
            "object_fit": null,
            "object_position": null,
            "order": null,
            "overflow": null,
            "overflow_x": null,
            "overflow_y": null,
            "padding": null,
            "right": null,
            "top": null,
            "visibility": null,
            "width": null
          }
        },
        "91adf69d496740389695630be0d40502": {
          "model_module": "@jupyter-widgets/controls",
          "model_name": "ProgressStyleModel",
          "model_module_version": "1.5.0",
          "state": {
            "_model_module": "@jupyter-widgets/controls",
            "_model_module_version": "1.5.0",
            "_model_name": "ProgressStyleModel",
            "_view_count": null,
            "_view_module": "@jupyter-widgets/base",
            "_view_module_version": "1.2.0",
            "_view_name": "StyleView",
            "bar_color": null,
            "description_width": ""
          }
        },
        "5dcb350f4bfc4f8c8a40f58391601e1b": {
          "model_module": "@jupyter-widgets/base",
          "model_name": "LayoutModel",
          "model_module_version": "1.2.0",
          "state": {
            "_model_module": "@jupyter-widgets/base",
            "_model_module_version": "1.2.0",
            "_model_name": "LayoutModel",
            "_view_count": null,
            "_view_module": "@jupyter-widgets/base",
            "_view_module_version": "1.2.0",
            "_view_name": "LayoutView",
            "align_content": null,
            "align_items": null,
            "align_self": null,
            "border": null,
            "bottom": null,
            "display": null,
            "flex": null,
            "flex_flow": null,
            "grid_area": null,
            "grid_auto_columns": null,
            "grid_auto_flow": null,
            "grid_auto_rows": null,
            "grid_column": null,
            "grid_gap": null,
            "grid_row": null,
            "grid_template_areas": null,
            "grid_template_columns": null,
            "grid_template_rows": null,
            "height": null,
            "justify_content": null,
            "justify_items": null,
            "left": null,
            "margin": null,
            "max_height": null,
            "max_width": null,
            "min_height": null,
            "min_width": null,
            "object_fit": null,
            "object_position": null,
            "order": null,
            "overflow": null,
            "overflow_x": null,
            "overflow_y": null,
            "padding": null,
            "right": null,
            "top": null,
            "visibility": null,
            "width": null
          }
        },
        "236c59425be34987821459fd4cb6637b": {
          "model_module": "@jupyter-widgets/controls",
          "model_name": "DescriptionStyleModel",
          "model_module_version": "1.5.0",
          "state": {
            "_model_module": "@jupyter-widgets/controls",
            "_model_module_version": "1.5.0",
            "_model_name": "DescriptionStyleModel",
            "_view_count": null,
            "_view_module": "@jupyter-widgets/base",
            "_view_module_version": "1.2.0",
            "_view_name": "StyleView",
            "description_width": ""
          }
        },
        "dcc0d4b3f7e54cc2a4be66c195dfac00": {
          "model_module": "@jupyter-widgets/controls",
          "model_name": "HBoxModel",
          "model_module_version": "1.5.0",
          "state": {
            "_dom_classes": [],
            "_model_module": "@jupyter-widgets/controls",
            "_model_module_version": "1.5.0",
            "_model_name": "HBoxModel",
            "_view_count": null,
            "_view_module": "@jupyter-widgets/controls",
            "_view_module_version": "1.5.0",
            "_view_name": "HBoxView",
            "box_style": "",
            "children": [
              "IPY_MODEL_5ca7a63801a54c748a2544c1e7f2e98d",
              "IPY_MODEL_15f05296731b4886bb1c45203314c8d0",
              "IPY_MODEL_affa7161b0554c7b8dfe520a11819f19"
            ],
            "layout": "IPY_MODEL_ac38e267899d461b86152511fb01ea08"
          }
        },
        "5ca7a63801a54c748a2544c1e7f2e98d": {
          "model_module": "@jupyter-widgets/controls",
          "model_name": "HTMLModel",
          "model_module_version": "1.5.0",
          "state": {
            "_dom_classes": [],
            "_model_module": "@jupyter-widgets/controls",
            "_model_module_version": "1.5.0",
            "_model_name": "HTMLModel",
            "_view_count": null,
            "_view_module": "@jupyter-widgets/controls",
            "_view_module_version": "1.5.0",
            "_view_name": "HTMLView",
            "description": "",
            "description_tooltip": null,
            "layout": "IPY_MODEL_d05b1508de9c44e69f8a5a3ff0d675b1",
            "placeholder": "​",
            "style": "IPY_MODEL_3a8a053abca8471186de1cd2b6786b2f",
            "value": "pytorch_model.bin: 100%"
          }
        },
        "15f05296731b4886bb1c45203314c8d0": {
          "model_module": "@jupyter-widgets/controls",
          "model_name": "FloatProgressModel",
          "model_module_version": "1.5.0",
          "state": {
            "_dom_classes": [],
            "_model_module": "@jupyter-widgets/controls",
            "_model_module_version": "1.5.0",
            "_model_name": "FloatProgressModel",
            "_view_count": null,
            "_view_module": "@jupyter-widgets/controls",
            "_view_module_version": "1.5.0",
            "_view_name": "ProgressView",
            "bar_style": "success",
            "description": "",
            "description_tooltip": null,
            "layout": "IPY_MODEL_fe7cc7fe069c4ed1892018bcb8cb02ca",
            "max": 464421315,
            "min": 0,
            "orientation": "horizontal",
            "style": "IPY_MODEL_2e1dba495cbb49ada7755ba6080389dd",
            "value": 464421315
          }
        },
        "affa7161b0554c7b8dfe520a11819f19": {
          "model_module": "@jupyter-widgets/controls",
          "model_name": "HTMLModel",
          "model_module_version": "1.5.0",
          "state": {
            "_dom_classes": [],
            "_model_module": "@jupyter-widgets/controls",
            "_model_module_version": "1.5.0",
            "_model_name": "HTMLModel",
            "_view_count": null,
            "_view_module": "@jupyter-widgets/controls",
            "_view_module_version": "1.5.0",
            "_view_name": "HTMLView",
            "description": "",
            "description_tooltip": null,
            "layout": "IPY_MODEL_cb461fc7d7a34d8baaf9b06da6feb76c",
            "placeholder": "​",
            "style": "IPY_MODEL_61b50027a09c44039b205862d8ac04bd",
            "value": " 464M/464M [00:11&lt;00:00, 42.4MB/s]"
          }
        },
        "ac38e267899d461b86152511fb01ea08": {
          "model_module": "@jupyter-widgets/base",
          "model_name": "LayoutModel",
          "model_module_version": "1.2.0",
          "state": {
            "_model_module": "@jupyter-widgets/base",
            "_model_module_version": "1.2.0",
            "_model_name": "LayoutModel",
            "_view_count": null,
            "_view_module": "@jupyter-widgets/base",
            "_view_module_version": "1.2.0",
            "_view_name": "LayoutView",
            "align_content": null,
            "align_items": null,
            "align_self": null,
            "border": null,
            "bottom": null,
            "display": null,
            "flex": null,
            "flex_flow": null,
            "grid_area": null,
            "grid_auto_columns": null,
            "grid_auto_flow": null,
            "grid_auto_rows": null,
            "grid_column": null,
            "grid_gap": null,
            "grid_row": null,
            "grid_template_areas": null,
            "grid_template_columns": null,
            "grid_template_rows": null,
            "height": null,
            "justify_content": null,
            "justify_items": null,
            "left": null,
            "margin": null,
            "max_height": null,
            "max_width": null,
            "min_height": null,
            "min_width": null,
            "object_fit": null,
            "object_position": null,
            "order": null,
            "overflow": null,
            "overflow_x": null,
            "overflow_y": null,
            "padding": null,
            "right": null,
            "top": null,
            "visibility": null,
            "width": null
          }
        },
        "d05b1508de9c44e69f8a5a3ff0d675b1": {
          "model_module": "@jupyter-widgets/base",
          "model_name": "LayoutModel",
          "model_module_version": "1.2.0",
          "state": {
            "_model_module": "@jupyter-widgets/base",
            "_model_module_version": "1.2.0",
            "_model_name": "LayoutModel",
            "_view_count": null,
            "_view_module": "@jupyter-widgets/base",
            "_view_module_version": "1.2.0",
            "_view_name": "LayoutView",
            "align_content": null,
            "align_items": null,
            "align_self": null,
            "border": null,
            "bottom": null,
            "display": null,
            "flex": null,
            "flex_flow": null,
            "grid_area": null,
            "grid_auto_columns": null,
            "grid_auto_flow": null,
            "grid_auto_rows": null,
            "grid_column": null,
            "grid_gap": null,
            "grid_row": null,
            "grid_template_areas": null,
            "grid_template_columns": null,
            "grid_template_rows": null,
            "height": null,
            "justify_content": null,
            "justify_items": null,
            "left": null,
            "margin": null,
            "max_height": null,
            "max_width": null,
            "min_height": null,
            "min_width": null,
            "object_fit": null,
            "object_position": null,
            "order": null,
            "overflow": null,
            "overflow_x": null,
            "overflow_y": null,
            "padding": null,
            "right": null,
            "top": null,
            "visibility": null,
            "width": null
          }
        },
        "3a8a053abca8471186de1cd2b6786b2f": {
          "model_module": "@jupyter-widgets/controls",
          "model_name": "DescriptionStyleModel",
          "model_module_version": "1.5.0",
          "state": {
            "_model_module": "@jupyter-widgets/controls",
            "_model_module_version": "1.5.0",
            "_model_name": "DescriptionStyleModel",
            "_view_count": null,
            "_view_module": "@jupyter-widgets/base",
            "_view_module_version": "1.2.0",
            "_view_name": "StyleView",
            "description_width": ""
          }
        },
        "fe7cc7fe069c4ed1892018bcb8cb02ca": {
          "model_module": "@jupyter-widgets/base",
          "model_name": "LayoutModel",
          "model_module_version": "1.2.0",
          "state": {
            "_model_module": "@jupyter-widgets/base",
            "_model_module_version": "1.2.0",
            "_model_name": "LayoutModel",
            "_view_count": null,
            "_view_module": "@jupyter-widgets/base",
            "_view_module_version": "1.2.0",
            "_view_name": "LayoutView",
            "align_content": null,
            "align_items": null,
            "align_self": null,
            "border": null,
            "bottom": null,
            "display": null,
            "flex": null,
            "flex_flow": null,
            "grid_area": null,
            "grid_auto_columns": null,
            "grid_auto_flow": null,
            "grid_auto_rows": null,
            "grid_column": null,
            "grid_gap": null,
            "grid_row": null,
            "grid_template_areas": null,
            "grid_template_columns": null,
            "grid_template_rows": null,
            "height": null,
            "justify_content": null,
            "justify_items": null,
            "left": null,
            "margin": null,
            "max_height": null,
            "max_width": null,
            "min_height": null,
            "min_width": null,
            "object_fit": null,
            "object_position": null,
            "order": null,
            "overflow": null,
            "overflow_x": null,
            "overflow_y": null,
            "padding": null,
            "right": null,
            "top": null,
            "visibility": null,
            "width": null
          }
        },
        "2e1dba495cbb49ada7755ba6080389dd": {
          "model_module": "@jupyter-widgets/controls",
          "model_name": "ProgressStyleModel",
          "model_module_version": "1.5.0",
          "state": {
            "_model_module": "@jupyter-widgets/controls",
            "_model_module_version": "1.5.0",
            "_model_name": "ProgressStyleModel",
            "_view_count": null,
            "_view_module": "@jupyter-widgets/base",
            "_view_module_version": "1.2.0",
            "_view_name": "StyleView",
            "bar_color": null,
            "description_width": ""
          }
        },
        "cb461fc7d7a34d8baaf9b06da6feb76c": {
          "model_module": "@jupyter-widgets/base",
          "model_name": "LayoutModel",
          "model_module_version": "1.2.0",
          "state": {
            "_model_module": "@jupyter-widgets/base",
            "_model_module_version": "1.2.0",
            "_model_name": "LayoutModel",
            "_view_count": null,
            "_view_module": "@jupyter-widgets/base",
            "_view_module_version": "1.2.0",
            "_view_name": "LayoutView",
            "align_content": null,
            "align_items": null,
            "align_self": null,
            "border": null,
            "bottom": null,
            "display": null,
            "flex": null,
            "flex_flow": null,
            "grid_area": null,
            "grid_auto_columns": null,
            "grid_auto_flow": null,
            "grid_auto_rows": null,
            "grid_column": null,
            "grid_gap": null,
            "grid_row": null,
            "grid_template_areas": null,
            "grid_template_columns": null,
            "grid_template_rows": null,
            "height": null,
            "justify_content": null,
            "justify_items": null,
            "left": null,
            "margin": null,
            "max_height": null,
            "max_width": null,
            "min_height": null,
            "min_width": null,
            "object_fit": null,
            "object_position": null,
            "order": null,
            "overflow": null,
            "overflow_x": null,
            "overflow_y": null,
            "padding": null,
            "right": null,
            "top": null,
            "visibility": null,
            "width": null
          }
        },
        "61b50027a09c44039b205862d8ac04bd": {
          "model_module": "@jupyter-widgets/controls",
          "model_name": "DescriptionStyleModel",
          "model_module_version": "1.5.0",
          "state": {
            "_model_module": "@jupyter-widgets/controls",
            "_model_module_version": "1.5.0",
            "_model_name": "DescriptionStyleModel",
            "_view_count": null,
            "_view_module": "@jupyter-widgets/base",
            "_view_module_version": "1.2.0",
            "_view_name": "StyleView",
            "description_width": ""
          }
        },
        "b70499f6caad4c13b02144ded1b55cef": {
          "model_module": "@jupyter-widgets/controls",
          "model_name": "HBoxModel",
          "model_module_version": "1.5.0",
          "state": {
            "_dom_classes": [],
            "_model_module": "@jupyter-widgets/controls",
            "_model_module_version": "1.5.0",
            "_model_name": "HBoxModel",
            "_view_count": null,
            "_view_module": "@jupyter-widgets/controls",
            "_view_module_version": "1.5.0",
            "_view_name": "HBoxView",
            "box_style": "",
            "children": [
              "IPY_MODEL_64bbe67417464774a798594c6504c649",
              "IPY_MODEL_49a36549fa174d239996d2697db83dba",
              "IPY_MODEL_ccba908f0be84f409ea9e8145327a721"
            ],
            "layout": "IPY_MODEL_ad9f17cb20a54ee8b2d61920a95e720f"
          }
        },
        "64bbe67417464774a798594c6504c649": {
          "model_module": "@jupyter-widgets/controls",
          "model_name": "HTMLModel",
          "model_module_version": "1.5.0",
          "state": {
            "_dom_classes": [],
            "_model_module": "@jupyter-widgets/controls",
            "_model_module_version": "1.5.0",
            "_model_name": "HTMLModel",
            "_view_count": null,
            "_view_module": "@jupyter-widgets/controls",
            "_view_module_version": "1.5.0",
            "_view_name": "HTMLView",
            "description": "",
            "description_tooltip": null,
            "layout": "IPY_MODEL_b8353ff6a60c433e8c72625b1eb83a54",
            "placeholder": "​",
            "style": "IPY_MODEL_4234bdb2f1fe4e70ac5b5481436a8a6c",
            "value": "preprocessor_config.json: 100%"
          }
        },
        "49a36549fa174d239996d2697db83dba": {
          "model_module": "@jupyter-widgets/controls",
          "model_name": "FloatProgressModel",
          "model_module_version": "1.5.0",
          "state": {
            "_dom_classes": [],
            "_model_module": "@jupyter-widgets/controls",
            "_model_module_version": "1.5.0",
            "_model_name": "FloatProgressModel",
            "_view_count": null,
            "_view_module": "@jupyter-widgets/controls",
            "_view_module_version": "1.5.0",
            "_view_name": "ProgressView",
            "bar_style": "success",
            "description": "",
            "description_tooltip": null,
            "layout": "IPY_MODEL_70112bab9b924c6f8a6f0ad5e60e5db7",
            "max": 806,
            "min": 0,
            "orientation": "horizontal",
            "style": "IPY_MODEL_f4b8c7849b2e4c53a8dc896cf28b06f4",
            "value": 806
          }
        },
        "ccba908f0be84f409ea9e8145327a721": {
          "model_module": "@jupyter-widgets/controls",
          "model_name": "HTMLModel",
          "model_module_version": "1.5.0",
          "state": {
            "_dom_classes": [],
            "_model_module": "@jupyter-widgets/controls",
            "_model_module_version": "1.5.0",
            "_model_name": "HTMLModel",
            "_view_count": null,
            "_view_module": "@jupyter-widgets/controls",
            "_view_module_version": "1.5.0",
            "_view_name": "HTMLView",
            "description": "",
            "description_tooltip": null,
            "layout": "IPY_MODEL_b6afe685b23c4a05bfbf82a5027f1ef0",
            "placeholder": "​",
            "style": "IPY_MODEL_81171e604ee54752944d93f5ac3924ff",
            "value": " 806/806 [00:00&lt;00:00, 73.9kB/s]"
          }
        },
        "ad9f17cb20a54ee8b2d61920a95e720f": {
          "model_module": "@jupyter-widgets/base",
          "model_name": "LayoutModel",
          "model_module_version": "1.2.0",
          "state": {
            "_model_module": "@jupyter-widgets/base",
            "_model_module_version": "1.2.0",
            "_model_name": "LayoutModel",
            "_view_count": null,
            "_view_module": "@jupyter-widgets/base",
            "_view_module_version": "1.2.0",
            "_view_name": "LayoutView",
            "align_content": null,
            "align_items": null,
            "align_self": null,
            "border": null,
            "bottom": null,
            "display": null,
            "flex": null,
            "flex_flow": null,
            "grid_area": null,
            "grid_auto_columns": null,
            "grid_auto_flow": null,
            "grid_auto_rows": null,
            "grid_column": null,
            "grid_gap": null,
            "grid_row": null,
            "grid_template_areas": null,
            "grid_template_columns": null,
            "grid_template_rows": null,
            "height": null,
            "justify_content": null,
            "justify_items": null,
            "left": null,
            "margin": null,
            "max_height": null,
            "max_width": null,
            "min_height": null,
            "min_width": null,
            "object_fit": null,
            "object_position": null,
            "order": null,
            "overflow": null,
            "overflow_x": null,
            "overflow_y": null,
            "padding": null,
            "right": null,
            "top": null,
            "visibility": null,
            "width": null
          }
        },
        "b8353ff6a60c433e8c72625b1eb83a54": {
          "model_module": "@jupyter-widgets/base",
          "model_name": "LayoutModel",
          "model_module_version": "1.2.0",
          "state": {
            "_model_module": "@jupyter-widgets/base",
            "_model_module_version": "1.2.0",
            "_model_name": "LayoutModel",
            "_view_count": null,
            "_view_module": "@jupyter-widgets/base",
            "_view_module_version": "1.2.0",
            "_view_name": "LayoutView",
            "align_content": null,
            "align_items": null,
            "align_self": null,
            "border": null,
            "bottom": null,
            "display": null,
            "flex": null,
            "flex_flow": null,
            "grid_area": null,
            "grid_auto_columns": null,
            "grid_auto_flow": null,
            "grid_auto_rows": null,
            "grid_column": null,
            "grid_gap": null,
            "grid_row": null,
            "grid_template_areas": null,
            "grid_template_columns": null,
            "grid_template_rows": null,
            "height": null,
            "justify_content": null,
            "justify_items": null,
            "left": null,
            "margin": null,
            "max_height": null,
            "max_width": null,
            "min_height": null,
            "min_width": null,
            "object_fit": null,
            "object_position": null,
            "order": null,
            "overflow": null,
            "overflow_x": null,
            "overflow_y": null,
            "padding": null,
            "right": null,
            "top": null,
            "visibility": null,
            "width": null
          }
        },
        "4234bdb2f1fe4e70ac5b5481436a8a6c": {
          "model_module": "@jupyter-widgets/controls",
          "model_name": "DescriptionStyleModel",
          "model_module_version": "1.5.0",
          "state": {
            "_model_module": "@jupyter-widgets/controls",
            "_model_module_version": "1.5.0",
            "_model_name": "DescriptionStyleModel",
            "_view_count": null,
            "_view_module": "@jupyter-widgets/base",
            "_view_module_version": "1.2.0",
            "_view_name": "StyleView",
            "description_width": ""
          }
        },
        "70112bab9b924c6f8a6f0ad5e60e5db7": {
          "model_module": "@jupyter-widgets/base",
          "model_name": "LayoutModel",
          "model_module_version": "1.2.0",
          "state": {
            "_model_module": "@jupyter-widgets/base",
            "_model_module_version": "1.2.0",
            "_model_name": "LayoutModel",
            "_view_count": null,
            "_view_module": "@jupyter-widgets/base",
            "_view_module_version": "1.2.0",
            "_view_name": "LayoutView",
            "align_content": null,
            "align_items": null,
            "align_self": null,
            "border": null,
            "bottom": null,
            "display": null,
            "flex": null,
            "flex_flow": null,
            "grid_area": null,
            "grid_auto_columns": null,
            "grid_auto_flow": null,
            "grid_auto_rows": null,
            "grid_column": null,
            "grid_gap": null,
            "grid_row": null,
            "grid_template_areas": null,
            "grid_template_columns": null,
            "grid_template_rows": null,
            "height": null,
            "justify_content": null,
            "justify_items": null,
            "left": null,
            "margin": null,
            "max_height": null,
            "max_width": null,
            "min_height": null,
            "min_width": null,
            "object_fit": null,
            "object_position": null,
            "order": null,
            "overflow": null,
            "overflow_x": null,
            "overflow_y": null,
            "padding": null,
            "right": null,
            "top": null,
            "visibility": null,
            "width": null
          }
        },
        "f4b8c7849b2e4c53a8dc896cf28b06f4": {
          "model_module": "@jupyter-widgets/controls",
          "model_name": "ProgressStyleModel",
          "model_module_version": "1.5.0",
          "state": {
            "_model_module": "@jupyter-widgets/controls",
            "_model_module_version": "1.5.0",
            "_model_name": "ProgressStyleModel",
            "_view_count": null,
            "_view_module": "@jupyter-widgets/base",
            "_view_module_version": "1.2.0",
            "_view_name": "StyleView",
            "bar_color": null,
            "description_width": ""
          }
        },
        "b6afe685b23c4a05bfbf82a5027f1ef0": {
          "model_module": "@jupyter-widgets/base",
          "model_name": "LayoutModel",
          "model_module_version": "1.2.0",
          "state": {
            "_model_module": "@jupyter-widgets/base",
            "_model_module_version": "1.2.0",
            "_model_name": "LayoutModel",
            "_view_count": null,
            "_view_module": "@jupyter-widgets/base",
            "_view_module_version": "1.2.0",
            "_view_name": "LayoutView",
            "align_content": null,
            "align_items": null,
            "align_self": null,
            "border": null,
            "bottom": null,
            "display": null,
            "flex": null,
            "flex_flow": null,
            "grid_area": null,
            "grid_auto_columns": null,
            "grid_auto_flow": null,
            "grid_auto_rows": null,
            "grid_column": null,
            "grid_gap": null,
            "grid_row": null,
            "grid_template_areas": null,
            "grid_template_columns": null,
            "grid_template_rows": null,
            "height": null,
            "justify_content": null,
            "justify_items": null,
            "left": null,
            "margin": null,
            "max_height": null,
            "max_width": null,
            "min_height": null,
            "min_width": null,
            "object_fit": null,
            "object_position": null,
            "order": null,
            "overflow": null,
            "overflow_x": null,
            "overflow_y": null,
            "padding": null,
            "right": null,
            "top": null,
            "visibility": null,
            "width": null
          }
        },
        "81171e604ee54752944d93f5ac3924ff": {
          "model_module": "@jupyter-widgets/controls",
          "model_name": "DescriptionStyleModel",
          "model_module_version": "1.5.0",
          "state": {
            "_model_module": "@jupyter-widgets/controls",
            "_model_module_version": "1.5.0",
            "_model_name": "DescriptionStyleModel",
            "_view_count": null,
            "_view_module": "@jupyter-widgets/base",
            "_view_module_version": "1.2.0",
            "_view_name": "StyleView",
            "description_width": ""
          }
        },
        "817c07ff3de942b78d3d540b3eb54c6f": {
          "model_module": "@jupyter-widgets/controls",
          "model_name": "HBoxModel",
          "model_module_version": "1.5.0",
          "state": {
            "_dom_classes": [],
            "_model_module": "@jupyter-widgets/controls",
            "_model_module_version": "1.5.0",
            "_model_name": "HBoxModel",
            "_view_count": null,
            "_view_module": "@jupyter-widgets/controls",
            "_view_module_version": "1.5.0",
            "_view_name": "HBoxView",
            "box_style": "",
            "children": [
              "IPY_MODEL_2dacfbef4db14b8c8ff4d0b73bec7d7f",
              "IPY_MODEL_295b692ef2fd4557a5bc8813f51608fb",
              "IPY_MODEL_2c7372213ac940d8b5acd21774f58c9e"
            ],
            "layout": "IPY_MODEL_b282aec752dc402c9f8928a5b57ccd8e"
          }
        },
        "2dacfbef4db14b8c8ff4d0b73bec7d7f": {
          "model_module": "@jupyter-widgets/controls",
          "model_name": "HTMLModel",
          "model_module_version": "1.5.0",
          "state": {
            "_dom_classes": [],
            "_model_module": "@jupyter-widgets/controls",
            "_model_module_version": "1.5.0",
            "_model_name": "HTMLModel",
            "_view_count": null,
            "_view_module": "@jupyter-widgets/controls",
            "_view_module_version": "1.5.0",
            "_view_name": "HTMLView",
            "description": "",
            "description_tooltip": null,
            "layout": "IPY_MODEL_243aab3f2fab416da3e6d213aa0020f7",
            "placeholder": "​",
            "style": "IPY_MODEL_eaf833c11981471e9fee48417f9b1561",
            "value": "processing_florence2.py: 100%"
          }
        },
        "295b692ef2fd4557a5bc8813f51608fb": {
          "model_module": "@jupyter-widgets/controls",
          "model_name": "FloatProgressModel",
          "model_module_version": "1.5.0",
          "state": {
            "_dom_classes": [],
            "_model_module": "@jupyter-widgets/controls",
            "_model_module_version": "1.5.0",
            "_model_name": "FloatProgressModel",
            "_view_count": null,
            "_view_module": "@jupyter-widgets/controls",
            "_view_module_version": "1.5.0",
            "_view_name": "ProgressView",
            "bar_style": "success",
            "description": "",
            "description_tooltip": null,
            "layout": "IPY_MODEL_acc3485dbd06498c9b1bc334a3464e8c",
            "max": 46372,
            "min": 0,
            "orientation": "horizontal",
            "style": "IPY_MODEL_21734589ce764b2eb2ff449257cfc0ec",
            "value": 46372
          }
        },
        "2c7372213ac940d8b5acd21774f58c9e": {
          "model_module": "@jupyter-widgets/controls",
          "model_name": "HTMLModel",
          "model_module_version": "1.5.0",
          "state": {
            "_dom_classes": [],
            "_model_module": "@jupyter-widgets/controls",
            "_model_module_version": "1.5.0",
            "_model_name": "HTMLModel",
            "_view_count": null,
            "_view_module": "@jupyter-widgets/controls",
            "_view_module_version": "1.5.0",
            "_view_name": "HTMLView",
            "description": "",
            "description_tooltip": null,
            "layout": "IPY_MODEL_d10f7cbec25c4f3ca9f82cb78d876d8b",
            "placeholder": "​",
            "style": "IPY_MODEL_ae0b1f49ea114cbab2cbe73eac95ba2e",
            "value": " 46.4k/46.4k [00:00&lt;00:00, 3.43MB/s]"
          }
        },
        "b282aec752dc402c9f8928a5b57ccd8e": {
          "model_module": "@jupyter-widgets/base",
          "model_name": "LayoutModel",
          "model_module_version": "1.2.0",
          "state": {
            "_model_module": "@jupyter-widgets/base",
            "_model_module_version": "1.2.0",
            "_model_name": "LayoutModel",
            "_view_count": null,
            "_view_module": "@jupyter-widgets/base",
            "_view_module_version": "1.2.0",
            "_view_name": "LayoutView",
            "align_content": null,
            "align_items": null,
            "align_self": null,
            "border": null,
            "bottom": null,
            "display": null,
            "flex": null,
            "flex_flow": null,
            "grid_area": null,
            "grid_auto_columns": null,
            "grid_auto_flow": null,
            "grid_auto_rows": null,
            "grid_column": null,
            "grid_gap": null,
            "grid_row": null,
            "grid_template_areas": null,
            "grid_template_columns": null,
            "grid_template_rows": null,
            "height": null,
            "justify_content": null,
            "justify_items": null,
            "left": null,
            "margin": null,
            "max_height": null,
            "max_width": null,
            "min_height": null,
            "min_width": null,
            "object_fit": null,
            "object_position": null,
            "order": null,
            "overflow": null,
            "overflow_x": null,
            "overflow_y": null,
            "padding": null,
            "right": null,
            "top": null,
            "visibility": null,
            "width": null
          }
        },
        "243aab3f2fab416da3e6d213aa0020f7": {
          "model_module": "@jupyter-widgets/base",
          "model_name": "LayoutModel",
          "model_module_version": "1.2.0",
          "state": {
            "_model_module": "@jupyter-widgets/base",
            "_model_module_version": "1.2.0",
            "_model_name": "LayoutModel",
            "_view_count": null,
            "_view_module": "@jupyter-widgets/base",
            "_view_module_version": "1.2.0",
            "_view_name": "LayoutView",
            "align_content": null,
            "align_items": null,
            "align_self": null,
            "border": null,
            "bottom": null,
            "display": null,
            "flex": null,
            "flex_flow": null,
            "grid_area": null,
            "grid_auto_columns": null,
            "grid_auto_flow": null,
            "grid_auto_rows": null,
            "grid_column": null,
            "grid_gap": null,
            "grid_row": null,
            "grid_template_areas": null,
            "grid_template_columns": null,
            "grid_template_rows": null,
            "height": null,
            "justify_content": null,
            "justify_items": null,
            "left": null,
            "margin": null,
            "max_height": null,
            "max_width": null,
            "min_height": null,
            "min_width": null,
            "object_fit": null,
            "object_position": null,
            "order": null,
            "overflow": null,
            "overflow_x": null,
            "overflow_y": null,
            "padding": null,
            "right": null,
            "top": null,
            "visibility": null,
            "width": null
          }
        },
        "eaf833c11981471e9fee48417f9b1561": {
          "model_module": "@jupyter-widgets/controls",
          "model_name": "DescriptionStyleModel",
          "model_module_version": "1.5.0",
          "state": {
            "_model_module": "@jupyter-widgets/controls",
            "_model_module_version": "1.5.0",
            "_model_name": "DescriptionStyleModel",
            "_view_count": null,
            "_view_module": "@jupyter-widgets/base",
            "_view_module_version": "1.2.0",
            "_view_name": "StyleView",
            "description_width": ""
          }
        },
        "acc3485dbd06498c9b1bc334a3464e8c": {
          "model_module": "@jupyter-widgets/base",
          "model_name": "LayoutModel",
          "model_module_version": "1.2.0",
          "state": {
            "_model_module": "@jupyter-widgets/base",
            "_model_module_version": "1.2.0",
            "_model_name": "LayoutModel",
            "_view_count": null,
            "_view_module": "@jupyter-widgets/base",
            "_view_module_version": "1.2.0",
            "_view_name": "LayoutView",
            "align_content": null,
            "align_items": null,
            "align_self": null,
            "border": null,
            "bottom": null,
            "display": null,
            "flex": null,
            "flex_flow": null,
            "grid_area": null,
            "grid_auto_columns": null,
            "grid_auto_flow": null,
            "grid_auto_rows": null,
            "grid_column": null,
            "grid_gap": null,
            "grid_row": null,
            "grid_template_areas": null,
            "grid_template_columns": null,
            "grid_template_rows": null,
            "height": null,
            "justify_content": null,
            "justify_items": null,
            "left": null,
            "margin": null,
            "max_height": null,
            "max_width": null,
            "min_height": null,
            "min_width": null,
            "object_fit": null,
            "object_position": null,
            "order": null,
            "overflow": null,
            "overflow_x": null,
            "overflow_y": null,
            "padding": null,
            "right": null,
            "top": null,
            "visibility": null,
            "width": null
          }
        },
        "21734589ce764b2eb2ff449257cfc0ec": {
          "model_module": "@jupyter-widgets/controls",
          "model_name": "ProgressStyleModel",
          "model_module_version": "1.5.0",
          "state": {
            "_model_module": "@jupyter-widgets/controls",
            "_model_module_version": "1.5.0",
            "_model_name": "ProgressStyleModel",
            "_view_count": null,
            "_view_module": "@jupyter-widgets/base",
            "_view_module_version": "1.2.0",
            "_view_name": "StyleView",
            "bar_color": null,
            "description_width": ""
          }
        },
        "d10f7cbec25c4f3ca9f82cb78d876d8b": {
          "model_module": "@jupyter-widgets/base",
          "model_name": "LayoutModel",
          "model_module_version": "1.2.0",
          "state": {
            "_model_module": "@jupyter-widgets/base",
            "_model_module_version": "1.2.0",
            "_model_name": "LayoutModel",
            "_view_count": null,
            "_view_module": "@jupyter-widgets/base",
            "_view_module_version": "1.2.0",
            "_view_name": "LayoutView",
            "align_content": null,
            "align_items": null,
            "align_self": null,
            "border": null,
            "bottom": null,
            "display": null,
            "flex": null,
            "flex_flow": null,
            "grid_area": null,
            "grid_auto_columns": null,
            "grid_auto_flow": null,
            "grid_auto_rows": null,
            "grid_column": null,
            "grid_gap": null,
            "grid_row": null,
            "grid_template_areas": null,
            "grid_template_columns": null,
            "grid_template_rows": null,
            "height": null,
            "justify_content": null,
            "justify_items": null,
            "left": null,
            "margin": null,
            "max_height": null,
            "max_width": null,
            "min_height": null,
            "min_width": null,
            "object_fit": null,
            "object_position": null,
            "order": null,
            "overflow": null,
            "overflow_x": null,
            "overflow_y": null,
            "padding": null,
            "right": null,
            "top": null,
            "visibility": null,
            "width": null
          }
        },
        "ae0b1f49ea114cbab2cbe73eac95ba2e": {
          "model_module": "@jupyter-widgets/controls",
          "model_name": "DescriptionStyleModel",
          "model_module_version": "1.5.0",
          "state": {
            "_model_module": "@jupyter-widgets/controls",
            "_model_module_version": "1.5.0",
            "_model_name": "DescriptionStyleModel",
            "_view_count": null,
            "_view_module": "@jupyter-widgets/base",
            "_view_module_version": "1.2.0",
            "_view_name": "StyleView",
            "description_width": ""
          }
        },
        "4d72361e84e14827b9fda76440616774": {
          "model_module": "@jupyter-widgets/controls",
          "model_name": "HBoxModel",
          "model_module_version": "1.5.0",
          "state": {
            "_dom_classes": [],
            "_model_module": "@jupyter-widgets/controls",
            "_model_module_version": "1.5.0",
            "_model_name": "HBoxModel",
            "_view_count": null,
            "_view_module": "@jupyter-widgets/controls",
            "_view_module_version": "1.5.0",
            "_view_name": "HBoxView",
            "box_style": "",
            "children": [
              "IPY_MODEL_a3c33bd2d6504f78b0eb21fb755ff4f5",
              "IPY_MODEL_989f4835daa649e287d985a60935cb0b",
              "IPY_MODEL_dd05ab31eb554dd19ff52a7d871aa7cb"
            ],
            "layout": "IPY_MODEL_63166852fe8f4f2daca5317fda27c661"
          }
        },
        "a3c33bd2d6504f78b0eb21fb755ff4f5": {
          "model_module": "@jupyter-widgets/controls",
          "model_name": "HTMLModel",
          "model_module_version": "1.5.0",
          "state": {
            "_dom_classes": [],
            "_model_module": "@jupyter-widgets/controls",
            "_model_module_version": "1.5.0",
            "_model_name": "HTMLModel",
            "_view_count": null,
            "_view_module": "@jupyter-widgets/controls",
            "_view_module_version": "1.5.0",
            "_view_name": "HTMLView",
            "description": "",
            "description_tooltip": null,
            "layout": "IPY_MODEL_469d62637c13451097cf94a5845600dc",
            "placeholder": "​",
            "style": "IPY_MODEL_26db50f782b34111955c3f3273b9046c",
            "value": "tokenizer_config.json: 100%"
          }
        },
        "989f4835daa649e287d985a60935cb0b": {
          "model_module": "@jupyter-widgets/controls",
          "model_name": "FloatProgressModel",
          "model_module_version": "1.5.0",
          "state": {
            "_dom_classes": [],
            "_model_module": "@jupyter-widgets/controls",
            "_model_module_version": "1.5.0",
            "_model_name": "FloatProgressModel",
            "_view_count": null,
            "_view_module": "@jupyter-widgets/controls",
            "_view_module_version": "1.5.0",
            "_view_name": "ProgressView",
            "bar_style": "success",
            "description": "",
            "description_tooltip": null,
            "layout": "IPY_MODEL_ebf1642fd04c42d89f7feee77b351abe",
            "max": 34,
            "min": 0,
            "orientation": "horizontal",
            "style": "IPY_MODEL_1e1468e13da247d69ef1179057e221d4",
            "value": 34
          }
        },
        "dd05ab31eb554dd19ff52a7d871aa7cb": {
          "model_module": "@jupyter-widgets/controls",
          "model_name": "HTMLModel",
          "model_module_version": "1.5.0",
          "state": {
            "_dom_classes": [],
            "_model_module": "@jupyter-widgets/controls",
            "_model_module_version": "1.5.0",
            "_model_name": "HTMLModel",
            "_view_count": null,
            "_view_module": "@jupyter-widgets/controls",
            "_view_module_version": "1.5.0",
            "_view_name": "HTMLView",
            "description": "",
            "description_tooltip": null,
            "layout": "IPY_MODEL_a610ee766f5b4820ae18ecd4867c00db",
            "placeholder": "​",
            "style": "IPY_MODEL_e2e29aec0d034f01a601d544afa62224",
            "value": " 34.0/34.0 [00:00&lt;00:00, 2.85kB/s]"
          }
        },
        "63166852fe8f4f2daca5317fda27c661": {
          "model_module": "@jupyter-widgets/base",
          "model_name": "LayoutModel",
          "model_module_version": "1.2.0",
          "state": {
            "_model_module": "@jupyter-widgets/base",
            "_model_module_version": "1.2.0",
            "_model_name": "LayoutModel",
            "_view_count": null,
            "_view_module": "@jupyter-widgets/base",
            "_view_module_version": "1.2.0",
            "_view_name": "LayoutView",
            "align_content": null,
            "align_items": null,
            "align_self": null,
            "border": null,
            "bottom": null,
            "display": null,
            "flex": null,
            "flex_flow": null,
            "grid_area": null,
            "grid_auto_columns": null,
            "grid_auto_flow": null,
            "grid_auto_rows": null,
            "grid_column": null,
            "grid_gap": null,
            "grid_row": null,
            "grid_template_areas": null,
            "grid_template_columns": null,
            "grid_template_rows": null,
            "height": null,
            "justify_content": null,
            "justify_items": null,
            "left": null,
            "margin": null,
            "max_height": null,
            "max_width": null,
            "min_height": null,
            "min_width": null,
            "object_fit": null,
            "object_position": null,
            "order": null,
            "overflow": null,
            "overflow_x": null,
            "overflow_y": null,
            "padding": null,
            "right": null,
            "top": null,
            "visibility": null,
            "width": null
          }
        },
        "469d62637c13451097cf94a5845600dc": {
          "model_module": "@jupyter-widgets/base",
          "model_name": "LayoutModel",
          "model_module_version": "1.2.0",
          "state": {
            "_model_module": "@jupyter-widgets/base",
            "_model_module_version": "1.2.0",
            "_model_name": "LayoutModel",
            "_view_count": null,
            "_view_module": "@jupyter-widgets/base",
            "_view_module_version": "1.2.0",
            "_view_name": "LayoutView",
            "align_content": null,
            "align_items": null,
            "align_self": null,
            "border": null,
            "bottom": null,
            "display": null,
            "flex": null,
            "flex_flow": null,
            "grid_area": null,
            "grid_auto_columns": null,
            "grid_auto_flow": null,
            "grid_auto_rows": null,
            "grid_column": null,
            "grid_gap": null,
            "grid_row": null,
            "grid_template_areas": null,
            "grid_template_columns": null,
            "grid_template_rows": null,
            "height": null,
            "justify_content": null,
            "justify_items": null,
            "left": null,
            "margin": null,
            "max_height": null,
            "max_width": null,
            "min_height": null,
            "min_width": null,
            "object_fit": null,
            "object_position": null,
            "order": null,
            "overflow": null,
            "overflow_x": null,
            "overflow_y": null,
            "padding": null,
            "right": null,
            "top": null,
            "visibility": null,
            "width": null
          }
        },
        "26db50f782b34111955c3f3273b9046c": {
          "model_module": "@jupyter-widgets/controls",
          "model_name": "DescriptionStyleModel",
          "model_module_version": "1.5.0",
          "state": {
            "_model_module": "@jupyter-widgets/controls",
            "_model_module_version": "1.5.0",
            "_model_name": "DescriptionStyleModel",
            "_view_count": null,
            "_view_module": "@jupyter-widgets/base",
            "_view_module_version": "1.2.0",
            "_view_name": "StyleView",
            "description_width": ""
          }
        },
        "ebf1642fd04c42d89f7feee77b351abe": {
          "model_module": "@jupyter-widgets/base",
          "model_name": "LayoutModel",
          "model_module_version": "1.2.0",
          "state": {
            "_model_module": "@jupyter-widgets/base",
            "_model_module_version": "1.2.0",
            "_model_name": "LayoutModel",
            "_view_count": null,
            "_view_module": "@jupyter-widgets/base",
            "_view_module_version": "1.2.0",
            "_view_name": "LayoutView",
            "align_content": null,
            "align_items": null,
            "align_self": null,
            "border": null,
            "bottom": null,
            "display": null,
            "flex": null,
            "flex_flow": null,
            "grid_area": null,
            "grid_auto_columns": null,
            "grid_auto_flow": null,
            "grid_auto_rows": null,
            "grid_column": null,
            "grid_gap": null,
            "grid_row": null,
            "grid_template_areas": null,
            "grid_template_columns": null,
            "grid_template_rows": null,
            "height": null,
            "justify_content": null,
            "justify_items": null,
            "left": null,
            "margin": null,
            "max_height": null,
            "max_width": null,
            "min_height": null,
            "min_width": null,
            "object_fit": null,
            "object_position": null,
            "order": null,
            "overflow": null,
            "overflow_x": null,
            "overflow_y": null,
            "padding": null,
            "right": null,
            "top": null,
            "visibility": null,
            "width": null
          }
        },
        "1e1468e13da247d69ef1179057e221d4": {
          "model_module": "@jupyter-widgets/controls",
          "model_name": "ProgressStyleModel",
          "model_module_version": "1.5.0",
          "state": {
            "_model_module": "@jupyter-widgets/controls",
            "_model_module_version": "1.5.0",
            "_model_name": "ProgressStyleModel",
            "_view_count": null,
            "_view_module": "@jupyter-widgets/base",
            "_view_module_version": "1.2.0",
            "_view_name": "StyleView",
            "bar_color": null,
            "description_width": ""
          }
        },
        "a610ee766f5b4820ae18ecd4867c00db": {
          "model_module": "@jupyter-widgets/base",
          "model_name": "LayoutModel",
          "model_module_version": "1.2.0",
          "state": {
            "_model_module": "@jupyter-widgets/base",
            "_model_module_version": "1.2.0",
            "_model_name": "LayoutModel",
            "_view_count": null,
            "_view_module": "@jupyter-widgets/base",
            "_view_module_version": "1.2.0",
            "_view_name": "LayoutView",
            "align_content": null,
            "align_items": null,
            "align_self": null,
            "border": null,
            "bottom": null,
            "display": null,
            "flex": null,
            "flex_flow": null,
            "grid_area": null,
            "grid_auto_columns": null,
            "grid_auto_flow": null,
            "grid_auto_rows": null,
            "grid_column": null,
            "grid_gap": null,
            "grid_row": null,
            "grid_template_areas": null,
            "grid_template_columns": null,
            "grid_template_rows": null,
            "height": null,
            "justify_content": null,
            "justify_items": null,
            "left": null,
            "margin": null,
            "max_height": null,
            "max_width": null,
            "min_height": null,
            "min_width": null,
            "object_fit": null,
            "object_position": null,
            "order": null,
            "overflow": null,
            "overflow_x": null,
            "overflow_y": null,
            "padding": null,
            "right": null,
            "top": null,
            "visibility": null,
            "width": null
          }
        },
        "e2e29aec0d034f01a601d544afa62224": {
          "model_module": "@jupyter-widgets/controls",
          "model_name": "DescriptionStyleModel",
          "model_module_version": "1.5.0",
          "state": {
            "_model_module": "@jupyter-widgets/controls",
            "_model_module_version": "1.5.0",
            "_model_name": "DescriptionStyleModel",
            "_view_count": null,
            "_view_module": "@jupyter-widgets/base",
            "_view_module_version": "1.2.0",
            "_view_name": "StyleView",
            "description_width": ""
          }
        },
        "219ced5120d2418aafe1bc77bc7473c4": {
          "model_module": "@jupyter-widgets/controls",
          "model_name": "HBoxModel",
          "model_module_version": "1.5.0",
          "state": {
            "_dom_classes": [],
            "_model_module": "@jupyter-widgets/controls",
            "_model_module_version": "1.5.0",
            "_model_name": "HBoxModel",
            "_view_count": null,
            "_view_module": "@jupyter-widgets/controls",
            "_view_module_version": "1.5.0",
            "_view_name": "HBoxView",
            "box_style": "",
            "children": [
              "IPY_MODEL_c501b5988b084d9d84da0be376581c4d",
              "IPY_MODEL_19cfce4aabb84e99ae896624f014f385",
              "IPY_MODEL_eab705a3bb2a443aa39d36aee1167560"
            ],
            "layout": "IPY_MODEL_d41e21bc87564a328d99b06cf4169eed"
          }
        },
        "c501b5988b084d9d84da0be376581c4d": {
          "model_module": "@jupyter-widgets/controls",
          "model_name": "HTMLModel",
          "model_module_version": "1.5.0",
          "state": {
            "_dom_classes": [],
            "_model_module": "@jupyter-widgets/controls",
            "_model_module_version": "1.5.0",
            "_model_name": "HTMLModel",
            "_view_count": null,
            "_view_module": "@jupyter-widgets/controls",
            "_view_module_version": "1.5.0",
            "_view_name": "HTMLView",
            "description": "",
            "description_tooltip": null,
            "layout": "IPY_MODEL_7ab3d8a8a8c24a858e63860a8d463fae",
            "placeholder": "​",
            "style": "IPY_MODEL_7cc0f3bf0cb54d20bc7367c1159af669",
            "value": "vocab.json: 100%"
          }
        },
        "19cfce4aabb84e99ae896624f014f385": {
          "model_module": "@jupyter-widgets/controls",
          "model_name": "FloatProgressModel",
          "model_module_version": "1.5.0",
          "state": {
            "_dom_classes": [],
            "_model_module": "@jupyter-widgets/controls",
            "_model_module_version": "1.5.0",
            "_model_name": "FloatProgressModel",
            "_view_count": null,
            "_view_module": "@jupyter-widgets/controls",
            "_view_module_version": "1.5.0",
            "_view_name": "ProgressView",
            "bar_style": "success",
            "description": "",
            "description_tooltip": null,
            "layout": "IPY_MODEL_29ec60526e944893bf51e9b2b9a182ce",
            "max": 1099884,
            "min": 0,
            "orientation": "horizontal",
            "style": "IPY_MODEL_c5f4e34e395042d384f47e680f40663a",
            "value": 1099884
          }
        },
        "eab705a3bb2a443aa39d36aee1167560": {
          "model_module": "@jupyter-widgets/controls",
          "model_name": "HTMLModel",
          "model_module_version": "1.5.0",
          "state": {
            "_dom_classes": [],
            "_model_module": "@jupyter-widgets/controls",
            "_model_module_version": "1.5.0",
            "_model_name": "HTMLModel",
            "_view_count": null,
            "_view_module": "@jupyter-widgets/controls",
            "_view_module_version": "1.5.0",
            "_view_name": "HTMLView",
            "description": "",
            "description_tooltip": null,
            "layout": "IPY_MODEL_b13db924a3ce402493973465fbe41159",
            "placeholder": "​",
            "style": "IPY_MODEL_cb2b3d922c644cfda4038e93399569ff",
            "value": " 1.10M/1.10M [00:00&lt;00:00, 1.59MB/s]"
          }
        },
        "d41e21bc87564a328d99b06cf4169eed": {
          "model_module": "@jupyter-widgets/base",
          "model_name": "LayoutModel",
          "model_module_version": "1.2.0",
          "state": {
            "_model_module": "@jupyter-widgets/base",
            "_model_module_version": "1.2.0",
            "_model_name": "LayoutModel",
            "_view_count": null,
            "_view_module": "@jupyter-widgets/base",
            "_view_module_version": "1.2.0",
            "_view_name": "LayoutView",
            "align_content": null,
            "align_items": null,
            "align_self": null,
            "border": null,
            "bottom": null,
            "display": null,
            "flex": null,
            "flex_flow": null,
            "grid_area": null,
            "grid_auto_columns": null,
            "grid_auto_flow": null,
            "grid_auto_rows": null,
            "grid_column": null,
            "grid_gap": null,
            "grid_row": null,
            "grid_template_areas": null,
            "grid_template_columns": null,
            "grid_template_rows": null,
            "height": null,
            "justify_content": null,
            "justify_items": null,
            "left": null,
            "margin": null,
            "max_height": null,
            "max_width": null,
            "min_height": null,
            "min_width": null,
            "object_fit": null,
            "object_position": null,
            "order": null,
            "overflow": null,
            "overflow_x": null,
            "overflow_y": null,
            "padding": null,
            "right": null,
            "top": null,
            "visibility": null,
            "width": null
          }
        },
        "7ab3d8a8a8c24a858e63860a8d463fae": {
          "model_module": "@jupyter-widgets/base",
          "model_name": "LayoutModel",
          "model_module_version": "1.2.0",
          "state": {
            "_model_module": "@jupyter-widgets/base",
            "_model_module_version": "1.2.0",
            "_model_name": "LayoutModel",
            "_view_count": null,
            "_view_module": "@jupyter-widgets/base",
            "_view_module_version": "1.2.0",
            "_view_name": "LayoutView",
            "align_content": null,
            "align_items": null,
            "align_self": null,
            "border": null,
            "bottom": null,
            "display": null,
            "flex": null,
            "flex_flow": null,
            "grid_area": null,
            "grid_auto_columns": null,
            "grid_auto_flow": null,
            "grid_auto_rows": null,
            "grid_column": null,
            "grid_gap": null,
            "grid_row": null,
            "grid_template_areas": null,
            "grid_template_columns": null,
            "grid_template_rows": null,
            "height": null,
            "justify_content": null,
            "justify_items": null,
            "left": null,
            "margin": null,
            "max_height": null,
            "max_width": null,
            "min_height": null,
            "min_width": null,
            "object_fit": null,
            "object_position": null,
            "order": null,
            "overflow": null,
            "overflow_x": null,
            "overflow_y": null,
            "padding": null,
            "right": null,
            "top": null,
            "visibility": null,
            "width": null
          }
        },
        "7cc0f3bf0cb54d20bc7367c1159af669": {
          "model_module": "@jupyter-widgets/controls",
          "model_name": "DescriptionStyleModel",
          "model_module_version": "1.5.0",
          "state": {
            "_model_module": "@jupyter-widgets/controls",
            "_model_module_version": "1.5.0",
            "_model_name": "DescriptionStyleModel",
            "_view_count": null,
            "_view_module": "@jupyter-widgets/base",
            "_view_module_version": "1.2.0",
            "_view_name": "StyleView",
            "description_width": ""
          }
        },
        "29ec60526e944893bf51e9b2b9a182ce": {
          "model_module": "@jupyter-widgets/base",
          "model_name": "LayoutModel",
          "model_module_version": "1.2.0",
          "state": {
            "_model_module": "@jupyter-widgets/base",
            "_model_module_version": "1.2.0",
            "_model_name": "LayoutModel",
            "_view_count": null,
            "_view_module": "@jupyter-widgets/base",
            "_view_module_version": "1.2.0",
            "_view_name": "LayoutView",
            "align_content": null,
            "align_items": null,
            "align_self": null,
            "border": null,
            "bottom": null,
            "display": null,
            "flex": null,
            "flex_flow": null,
            "grid_area": null,
            "grid_auto_columns": null,
            "grid_auto_flow": null,
            "grid_auto_rows": null,
            "grid_column": null,
            "grid_gap": null,
            "grid_row": null,
            "grid_template_areas": null,
            "grid_template_columns": null,
            "grid_template_rows": null,
            "height": null,
            "justify_content": null,
            "justify_items": null,
            "left": null,
            "margin": null,
            "max_height": null,
            "max_width": null,
            "min_height": null,
            "min_width": null,
            "object_fit": null,
            "object_position": null,
            "order": null,
            "overflow": null,
            "overflow_x": null,
            "overflow_y": null,
            "padding": null,
            "right": null,
            "top": null,
            "visibility": null,
            "width": null
          }
        },
        "c5f4e34e395042d384f47e680f40663a": {
          "model_module": "@jupyter-widgets/controls",
          "model_name": "ProgressStyleModel",
          "model_module_version": "1.5.0",
          "state": {
            "_model_module": "@jupyter-widgets/controls",
            "_model_module_version": "1.5.0",
            "_model_name": "ProgressStyleModel",
            "_view_count": null,
            "_view_module": "@jupyter-widgets/base",
            "_view_module_version": "1.2.0",
            "_view_name": "StyleView",
            "bar_color": null,
            "description_width": ""
          }
        },
        "b13db924a3ce402493973465fbe41159": {
          "model_module": "@jupyter-widgets/base",
          "model_name": "LayoutModel",
          "model_module_version": "1.2.0",
          "state": {
            "_model_module": "@jupyter-widgets/base",
            "_model_module_version": "1.2.0",
            "_model_name": "LayoutModel",
            "_view_count": null,
            "_view_module": "@jupyter-widgets/base",
            "_view_module_version": "1.2.0",
            "_view_name": "LayoutView",
            "align_content": null,
            "align_items": null,
            "align_self": null,
            "border": null,
            "bottom": null,
            "display": null,
            "flex": null,
            "flex_flow": null,
            "grid_area": null,
            "grid_auto_columns": null,
            "grid_auto_flow": null,
            "grid_auto_rows": null,
            "grid_column": null,
            "grid_gap": null,
            "grid_row": null,
            "grid_template_areas": null,
            "grid_template_columns": null,
            "grid_template_rows": null,
            "height": null,
            "justify_content": null,
            "justify_items": null,
            "left": null,
            "margin": null,
            "max_height": null,
            "max_width": null,
            "min_height": null,
            "min_width": null,
            "object_fit": null,
            "object_position": null,
            "order": null,
            "overflow": null,
            "overflow_x": null,
            "overflow_y": null,
            "padding": null,
            "right": null,
            "top": null,
            "visibility": null,
            "width": null
          }
        },
        "cb2b3d922c644cfda4038e93399569ff": {
          "model_module": "@jupyter-widgets/controls",
          "model_name": "DescriptionStyleModel",
          "model_module_version": "1.5.0",
          "state": {
            "_model_module": "@jupyter-widgets/controls",
            "_model_module_version": "1.5.0",
            "_model_name": "DescriptionStyleModel",
            "_view_count": null,
            "_view_module": "@jupyter-widgets/base",
            "_view_module_version": "1.2.0",
            "_view_name": "StyleView",
            "description_width": ""
          }
        },
        "123398c8930842a4ad693944eea47265": {
          "model_module": "@jupyter-widgets/controls",
          "model_name": "HBoxModel",
          "model_module_version": "1.5.0",
          "state": {
            "_dom_classes": [],
            "_model_module": "@jupyter-widgets/controls",
            "_model_module_version": "1.5.0",
            "_model_name": "HBoxModel",
            "_view_count": null,
            "_view_module": "@jupyter-widgets/controls",
            "_view_module_version": "1.5.0",
            "_view_name": "HBoxView",
            "box_style": "",
            "children": [
              "IPY_MODEL_927db79da91143a4b7149c885093fdb9",
              "IPY_MODEL_b5ac216542a249859ebe7d6ab005e030",
              "IPY_MODEL_a3b4b753756d48a7897a24fe1da81eac"
            ],
            "layout": "IPY_MODEL_c6c73e48755c4efb9c787b8a610f9a25"
          }
        },
        "927db79da91143a4b7149c885093fdb9": {
          "model_module": "@jupyter-widgets/controls",
          "model_name": "HTMLModel",
          "model_module_version": "1.5.0",
          "state": {
            "_dom_classes": [],
            "_model_module": "@jupyter-widgets/controls",
            "_model_module_version": "1.5.0",
            "_model_name": "HTMLModel",
            "_view_count": null,
            "_view_module": "@jupyter-widgets/controls",
            "_view_module_version": "1.5.0",
            "_view_name": "HTMLView",
            "description": "",
            "description_tooltip": null,
            "layout": "IPY_MODEL_c8c4608590f94d0e8ced2e4fab986097",
            "placeholder": "​",
            "style": "IPY_MODEL_ad2b9abd2fc84021ad11473218ef0633",
            "value": "tokenizer.json: 100%"
          }
        },
        "b5ac216542a249859ebe7d6ab005e030": {
          "model_module": "@jupyter-widgets/controls",
          "model_name": "FloatProgressModel",
          "model_module_version": "1.5.0",
          "state": {
            "_dom_classes": [],
            "_model_module": "@jupyter-widgets/controls",
            "_model_module_version": "1.5.0",
            "_model_name": "FloatProgressModel",
            "_view_count": null,
            "_view_module": "@jupyter-widgets/controls",
            "_view_module_version": "1.5.0",
            "_view_name": "ProgressView",
            "bar_style": "success",
            "description": "",
            "description_tooltip": null,
            "layout": "IPY_MODEL_ee3fab4f0bed456a8bd8927c52fac55a",
            "max": 1355863,
            "min": 0,
            "orientation": "horizontal",
            "style": "IPY_MODEL_4d699c6c514f4da8bc727c3b385ebb8f",
            "value": 1355863
          }
        },
        "a3b4b753756d48a7897a24fe1da81eac": {
          "model_module": "@jupyter-widgets/controls",
          "model_name": "HTMLModel",
          "model_module_version": "1.5.0",
          "state": {
            "_dom_classes": [],
            "_model_module": "@jupyter-widgets/controls",
            "_model_module_version": "1.5.0",
            "_model_name": "HTMLModel",
            "_view_count": null,
            "_view_module": "@jupyter-widgets/controls",
            "_view_module_version": "1.5.0",
            "_view_name": "HTMLView",
            "description": "",
            "description_tooltip": null,
            "layout": "IPY_MODEL_1e8b1a262ad54deb8f48cc438b03c7b8",
            "placeholder": "​",
            "style": "IPY_MODEL_b9313a3b14194b14bdae21277dcc7ac1",
            "value": " 1.36M/1.36M [00:00&lt;00:00, 5.56MB/s]"
          }
        },
        "c6c73e48755c4efb9c787b8a610f9a25": {
          "model_module": "@jupyter-widgets/base",
          "model_name": "LayoutModel",
          "model_module_version": "1.2.0",
          "state": {
            "_model_module": "@jupyter-widgets/base",
            "_model_module_version": "1.2.0",
            "_model_name": "LayoutModel",
            "_view_count": null,
            "_view_module": "@jupyter-widgets/base",
            "_view_module_version": "1.2.0",
            "_view_name": "LayoutView",
            "align_content": null,
            "align_items": null,
            "align_self": null,
            "border": null,
            "bottom": null,
            "display": null,
            "flex": null,
            "flex_flow": null,
            "grid_area": null,
            "grid_auto_columns": null,
            "grid_auto_flow": null,
            "grid_auto_rows": null,
            "grid_column": null,
            "grid_gap": null,
            "grid_row": null,
            "grid_template_areas": null,
            "grid_template_columns": null,
            "grid_template_rows": null,
            "height": null,
            "justify_content": null,
            "justify_items": null,
            "left": null,
            "margin": null,
            "max_height": null,
            "max_width": null,
            "min_height": null,
            "min_width": null,
            "object_fit": null,
            "object_position": null,
            "order": null,
            "overflow": null,
            "overflow_x": null,
            "overflow_y": null,
            "padding": null,
            "right": null,
            "top": null,
            "visibility": null,
            "width": null
          }
        },
        "c8c4608590f94d0e8ced2e4fab986097": {
          "model_module": "@jupyter-widgets/base",
          "model_name": "LayoutModel",
          "model_module_version": "1.2.0",
          "state": {
            "_model_module": "@jupyter-widgets/base",
            "_model_module_version": "1.2.0",
            "_model_name": "LayoutModel",
            "_view_count": null,
            "_view_module": "@jupyter-widgets/base",
            "_view_module_version": "1.2.0",
            "_view_name": "LayoutView",
            "align_content": null,
            "align_items": null,
            "align_self": null,
            "border": null,
            "bottom": null,
            "display": null,
            "flex": null,
            "flex_flow": null,
            "grid_area": null,
            "grid_auto_columns": null,
            "grid_auto_flow": null,
            "grid_auto_rows": null,
            "grid_column": null,
            "grid_gap": null,
            "grid_row": null,
            "grid_template_areas": null,
            "grid_template_columns": null,
            "grid_template_rows": null,
            "height": null,
            "justify_content": null,
            "justify_items": null,
            "left": null,
            "margin": null,
            "max_height": null,
            "max_width": null,
            "min_height": null,
            "min_width": null,
            "object_fit": null,
            "object_position": null,
            "order": null,
            "overflow": null,
            "overflow_x": null,
            "overflow_y": null,
            "padding": null,
            "right": null,
            "top": null,
            "visibility": null,
            "width": null
          }
        },
        "ad2b9abd2fc84021ad11473218ef0633": {
          "model_module": "@jupyter-widgets/controls",
          "model_name": "DescriptionStyleModel",
          "model_module_version": "1.5.0",
          "state": {
            "_model_module": "@jupyter-widgets/controls",
            "_model_module_version": "1.5.0",
            "_model_name": "DescriptionStyleModel",
            "_view_count": null,
            "_view_module": "@jupyter-widgets/base",
            "_view_module_version": "1.2.0",
            "_view_name": "StyleView",
            "description_width": ""
          }
        },
        "ee3fab4f0bed456a8bd8927c52fac55a": {
          "model_module": "@jupyter-widgets/base",
          "model_name": "LayoutModel",
          "model_module_version": "1.2.0",
          "state": {
            "_model_module": "@jupyter-widgets/base",
            "_model_module_version": "1.2.0",
            "_model_name": "LayoutModel",
            "_view_count": null,
            "_view_module": "@jupyter-widgets/base",
            "_view_module_version": "1.2.0",
            "_view_name": "LayoutView",
            "align_content": null,
            "align_items": null,
            "align_self": null,
            "border": null,
            "bottom": null,
            "display": null,
            "flex": null,
            "flex_flow": null,
            "grid_area": null,
            "grid_auto_columns": null,
            "grid_auto_flow": null,
            "grid_auto_rows": null,
            "grid_column": null,
            "grid_gap": null,
            "grid_row": null,
            "grid_template_areas": null,
            "grid_template_columns": null,
            "grid_template_rows": null,
            "height": null,
            "justify_content": null,
            "justify_items": null,
            "left": null,
            "margin": null,
            "max_height": null,
            "max_width": null,
            "min_height": null,
            "min_width": null,
            "object_fit": null,
            "object_position": null,
            "order": null,
            "overflow": null,
            "overflow_x": null,
            "overflow_y": null,
            "padding": null,
            "right": null,
            "top": null,
            "visibility": null,
            "width": null
          }
        },
        "4d699c6c514f4da8bc727c3b385ebb8f": {
          "model_module": "@jupyter-widgets/controls",
          "model_name": "ProgressStyleModel",
          "model_module_version": "1.5.0",
          "state": {
            "_model_module": "@jupyter-widgets/controls",
            "_model_module_version": "1.5.0",
            "_model_name": "ProgressStyleModel",
            "_view_count": null,
            "_view_module": "@jupyter-widgets/base",
            "_view_module_version": "1.2.0",
            "_view_name": "StyleView",
            "bar_color": null,
            "description_width": ""
          }
        },
        "1e8b1a262ad54deb8f48cc438b03c7b8": {
          "model_module": "@jupyter-widgets/base",
          "model_name": "LayoutModel",
          "model_module_version": "1.2.0",
          "state": {
            "_model_module": "@jupyter-widgets/base",
            "_model_module_version": "1.2.0",
            "_model_name": "LayoutModel",
            "_view_count": null,
            "_view_module": "@jupyter-widgets/base",
            "_view_module_version": "1.2.0",
            "_view_name": "LayoutView",
            "align_content": null,
            "align_items": null,
            "align_self": null,
            "border": null,
            "bottom": null,
            "display": null,
            "flex": null,
            "flex_flow": null,
            "grid_area": null,
            "grid_auto_columns": null,
            "grid_auto_flow": null,
            "grid_auto_rows": null,
            "grid_column": null,
            "grid_gap": null,
            "grid_row": null,
            "grid_template_areas": null,
            "grid_template_columns": null,
            "grid_template_rows": null,
            "height": null,
            "justify_content": null,
            "justify_items": null,
            "left": null,
            "margin": null,
            "max_height": null,
            "max_width": null,
            "min_height": null,
            "min_width": null,
            "object_fit": null,
            "object_position": null,
            "order": null,
            "overflow": null,
            "overflow_x": null,
            "overflow_y": null,
            "padding": null,
            "right": null,
            "top": null,
            "visibility": null,
            "width": null
          }
        },
        "b9313a3b14194b14bdae21277dcc7ac1": {
          "model_module": "@jupyter-widgets/controls",
          "model_name": "DescriptionStyleModel",
          "model_module_version": "1.5.0",
          "state": {
            "_model_module": "@jupyter-widgets/controls",
            "_model_module_version": "1.5.0",
            "_model_name": "DescriptionStyleModel",
            "_view_count": null,
            "_view_module": "@jupyter-widgets/base",
            "_view_module_version": "1.2.0",
            "_view_name": "StyleView",
            "description_width": ""
          }
        }
      }
    }
  },
  "cells": [
    {
      "cell_type": "markdown",
      "metadata": {
        "id": "view-in-github",
        "colab_type": "text"
      },
      "source": [
        "<a href=\"https://colab.research.google.com/github/EdenNguyenDo/Australia-vehicles-classification/blob/main/fine_tune_florence_2_vehicle.ipynb\" target=\"_parent\"><img src=\"https://colab.research.google.com/assets/colab-badge.svg\" alt=\"Open In Colab\"/></a>"
      ]
    },
    {
      "cell_type": "markdown",
      "source": [
        "## Setup"
      ],
      "metadata": {
        "id": "y1vUHDkeN2ur"
      }
    },
    {
      "cell_type": "code",
      "execution_count": 1,
      "metadata": {
        "id": "PoCcQTSQHDY_"
      },
      "outputs": [],
      "source": [
        "%%capture\n",
        "!pip install timm flash_attn einops;"
      ]
    },
    {
      "cell_type": "markdown",
      "source": [],
      "metadata": {
        "id": "oD_AlmQiJhDy"
      }
    },
    {
      "cell_type": "code",
      "source": [
        "%%bash\n",
        "git clone https://github.com/EdenNguyenDo/Australia-vehicles-classification.git\n"
      ],
      "metadata": {
        "colab": {
          "base_uri": "https://localhost:8080/"
        },
        "id": "H-68S3CFIqwy",
        "outputId": "cc5be93f-12e9-464e-9718-3a2eceeee8e2"
      },
      "execution_count": 2,
      "outputs": [
        {
          "output_type": "stream",
          "name": "stderr",
          "text": [
            "Cloning into 'Australia-vehicles-classification'...\n"
          ]
        }
      ]
    },
    {
      "cell_type": "code",
      "source": [
        "cd Australia-vehicles-classification"
      ],
      "metadata": {
        "colab": {
          "base_uri": "https://localhost:8080/"
        },
        "id": "PI6i1vhTTd_h",
        "outputId": "7ffbc76d-8187-49a3-f04e-d48add013038"
      },
      "execution_count": 4,
      "outputs": [
        {
          "output_type": "stream",
          "name": "stdout",
          "text": [
            "/content/Australia-vehicles-classification\n"
          ]
        }
      ]
    },
    {
      "cell_type": "markdown",
      "source": [
        "Now we import the packages we'll need, including the `utils.py` module from the repository that we just cloned. This file provides misellaneous functionality to make it easier to work with Florence-2."
      ],
      "metadata": {
        "id": "NE3IoglxJhwP"
      }
    },
    {
      "cell_type": "code",
      "source": [
        "import copy\n",
        "\n",
        "from transformers import AutoProcessor, AutoModelForCausalLM\n",
        "from PIL import Image\n",
        "import requests\n",
        "\n",
        "import utils\n",
        "\n",
        "\n",
        "\n",
        "%matplotlib inline"
      ],
      "metadata": {
        "id": "uWj7E9n8Iqzh"
      },
      "execution_count": 5,
      "outputs": []
    },
    {
      "cell_type": "markdown",
      "source": [
        "Next we load the Florence-2 model and processor"
      ],
      "metadata": {
        "id": "krig-auBJiU-"
      }
    },
    {
      "cell_type": "code",
      "source": [
        "model_id = 'microsoft/Florence-2-large'\n",
        "model = AutoModelForCausalLM.from_pretrained(model_id, trust_remote_code=True).eval().cuda()\n",
        "processor = AutoProcessor.from_pretrained(model_id, trust_remote_code=True)"
      ],
      "metadata": {
        "id": "fBNNsyykIq19",
        "colab": {
          "base_uri": "https://localhost:8080/"
        },
        "outputId": "d84db081-7c4e-4600-a367-8fb5bf44fa5a"
      },
      "execution_count": 6,
      "outputs": [
        {
          "output_type": "stream",
          "name": "stderr",
          "text": [
            "/usr/local/lib/python3.10/dist-packages/timm/models/layers/__init__.py:48: FutureWarning: Importing from timm.models.layers is deprecated, please import via timm.layers\n",
            "  warnings.warn(f\"Importing from {__name__} is deprecated, please import via timm.layers\", FutureWarning)\n"
          ]
        }
      ]
    },
    {
      "cell_type": "markdown",
      "source": [
        "And then we set these models as constants for our `utils.py` module so that the functions can utilize them as global constants."
      ],
      "metadata": {
        "id": "T2tk9dbqJjPN"
      }
    },
    {
      "cell_type": "code",
      "source": [
        "utils.set_model_info(model, processor)"
      ],
      "metadata": {
        "id": "ARExpV4QIq7L"
      },
      "execution_count": 7,
      "outputs": []
    },
    {
      "cell_type": "markdown",
      "source": [
        "LOAD IMAGES"
      ],
      "metadata": {
        "id": "8Yb2g1upM5wx"
      }
    },
    {
      "cell_type": "code",
      "source": [
        "path = \"dataset/train/frame2.png\"\n",
        "image = Image.open(path)\n",
        "image_rgb = Image.open(path).convert(\"RGB\")"
      ],
      "metadata": {
        "id": "-MnauUgOIq94"
      },
      "execution_count": 11,
      "outputs": []
    },
    {
      "cell_type": "markdown",
      "source": [
        "#### Object detection\n",
        "\n",
        "Object detection automatically detects the salient objects in an image. Florence-2 supports 3 levels of semantic granularity:\n",
        "1. None (bounding boxes only)\n",
        "2. Categorical labels\n",
        "3. Descriptive labels"
      ],
      "metadata": {
        "id": "F7o5rrrNNeG3"
      }
    },
    {
      "cell_type": "code",
      "source": [
        "tasks = [#utils.TaskType.REGION_PROPOSAL,\n",
        "         utils.TaskType.OBJECT_DETECTION\n",
        "         #utils.TaskType.DENSE_REGION_CAPTION,\n",
        "         ]\n",
        "\n",
        "for task in tasks:\n",
        "  results = utils.run_example(task, image_rgb)\n",
        "  print(task.value)\n",
        "  utils.plot_bbox(results[task], image)"
      ],
      "metadata": {
        "id": "HToXRsVJIrAD",
        "colab": {
          "base_uri": "https://localhost:8080/",
          "height": 340
        },
        "outputId": "5ef2ab14-0d9f-443b-efa0-e713871a25a6"
      },
      "execution_count": 12,
      "outputs": [
        {
          "output_type": "stream",
          "name": "stdout",
          "text": [
            "<OD>\n"
          ]
        },
        {
          "output_type": "display_data",
          "data": {
            "text/plain": [
              "<Figure size 640x480 with 1 Axes>"
            ],
            "image/png": "[encoded data removed]"
          },
          "metadata": {}
        }
      ]
    },
    {
      "cell_type": "markdown",
      "source": [
        "# FINE TUNING FLORENCE 2 AND TRAIN ON A CUSTOM DATASET"
      ],
      "metadata": {
        "id": "wahYQtuqNAex"
      }
    },
    {
      "cell_type": "code",
      "source": [
        "!pip install -q roboflow git+https://github.com/roboflow/supervision.git\n"
      ],
      "metadata": {
        "id": "oqIMex6fIrFB",
        "colab": {
          "base_uri": "https://localhost:8080/"
        },
        "outputId": "0951fe44-9e5c-49a5-eba8-820ff8dea652"
      },
      "execution_count": 13,
      "outputs": [
        {
          "output_type": "stream",
          "name": "stdout",
          "text": [
            "  Installing build dependencies ... \u001b[?25l\u001b[?25hdone\n",
            "  Getting requirements to build wheel ... \u001b[?25l\u001b[?25hdone\n",
            "  Preparing metadata (pyproject.toml) ... \u001b[?25l\u001b[?25hdone\n"
          ]
        }
      ]
    },
    {
      "cell_type": "code",
      "source": [
        "# @title Imports\n",
        "\n",
        "import io\n",
        "import os\n",
        "import re\n",
        "import json\n",
        "import torch\n",
        "import html\n",
        "import base64\n",
        "import itertools\n",
        "\n",
        "import numpy as np\n",
        "import supervision as sv\n",
        "\n",
        "from google.colab import userdata\n",
        "from IPython.core.display import display, HTML\n",
        "from torch.utils.data import Dataset, DataLoader\n",
        "from transformers import (\n",
        "    AdamW,\n",
        "    AutoModelForCausalLM,\n",
        "    AutoProcessor,\n",
        "    get_scheduler\n",
        ")\n",
        "from tqdm import tqdm\n",
        "from typing import List, Dict, Any, Tuple, Generator\n",
        "from peft import LoraConfig, get_peft_model\n",
        "from PIL import Image\n",
        "from roboflow import Roboflow"
      ],
      "metadata": {
        "cellView": "form",
        "id": "t8x3vnDHQbw8"
      },
      "execution_count": 21,
      "outputs": []
    },
    {
      "cell_type": "code",
      "source": [
        "CHECKPOINT = \"microsoft/Florence-2-base-ft\"\n",
        "REVISION = 'refs/pr/6'\n",
        "DEVICE = torch.device(\"cuda\" if torch.cuda.is_available() else \"cpu\")\n",
        "\n",
        "model = AutoModelForCausalLM.from_pretrained(CHECKPOINT, trust_remote_code=True, revision=REVISION).to(DEVICE)\n",
        "processor = AutoProcessor.from_pretrained(CHECKPOINT, trust_remote_code=True, revision=REVISION)"
      ],
      "metadata": {
        "colab": {
          "base_uri": "https://localhost:8080/",
          "height": 447,
          "referenced_widgets": [
            "155c4c3424564fb0bd0676addc21327b",
            "6460e6c71c7543e3aeae38019068077a",
            "d18f27b2cb1149c3806bd2267285988f",
            "4cc289956743485d9c4afcf1161ddb03",
            "3f8de6d99dd84f1ca5810e294b46f071",
            "dc97f6bdf30f478797a7b080a5e0cabe",
            "d5a26e33aa7f45849e27ad2ac61153eb",
            "5a67201ba19d420b8c96c564e39c6296",
            "4587960c00ae4afb9911de86a855503a",
            "cc27506a369e4627a8bd4de9f928ea03",
            "fdb419bb72e64765bcffeee31ad8bfbf",
            "bd477c63f40644059b20dd48fffe8c38",
            "19b39f6e7d4e444db645c75395051b37",
            "d5ee8d119cb740afa634bab07376cdb0",
            "4b0ee4fe6cfb4e5ba8d0be999b60be95",
            "5d88eedf20534d1d8fa92d17cce8b248",
            "667816fff6d049b38a694fcfe98b8a94",
            "d61ddb5f20b142ba985adee2c62b59e5",
            "908af115cd2f4f3d8403f1deddb85b91",
            "811743ab629d4639a85660db0ebbf6dd",
            "95e48adfe3af4b64a837d5118de43c9e",
            "621991d4b9f644f89a9218c464fdf9e4",
            "ca7589dddd8b47bcb9872d1ece7d0e91",
            "01c17c1fbcbd45f1aecc78a2f7ec5af5",
            "03bf7de4a0114d9da1e8403a477f4bc0",
            "0e353e71e12e4a4494d45566070584f5",
            "e1affc8c54164324bcaf1f95531e14a8",
            "310f6fcd0fe14128b05adaafb3ab8ec6",
            "a91235d96b6e45f3b1d1ab682b8315bd",
            "e0184b07efed41eba2e4767a8ed8e8a3",
            "91adf69d496740389695630be0d40502",
            "5dcb350f4bfc4f8c8a40f58391601e1b",
            "236c59425be34987821459fd4cb6637b",
            "dcc0d4b3f7e54cc2a4be66c195dfac00",
            "5ca7a63801a54c748a2544c1e7f2e98d",
            "15f05296731b4886bb1c45203314c8d0",
            "affa7161b0554c7b8dfe520a11819f19",
            "ac38e267899d461b86152511fb01ea08",
            "d05b1508de9c44e69f8a5a3ff0d675b1",
            "3a8a053abca8471186de1cd2b6786b2f",
            "fe7cc7fe069c4ed1892018bcb8cb02ca",
            "2e1dba495cbb49ada7755ba6080389dd",
            "cb461fc7d7a34d8baaf9b06da6feb76c",
            "61b50027a09c44039b205862d8ac04bd",
            "b70499f6caad4c13b02144ded1b55cef",
            "64bbe67417464774a798594c6504c649",
            "49a36549fa174d239996d2697db83dba",
            "ccba908f0be84f409ea9e8145327a721",
            "ad9f17cb20a54ee8b2d61920a95e720f",
            "b8353ff6a60c433e8c72625b1eb83a54",
            "4234bdb2f1fe4e70ac5b5481436a8a6c",
            "70112bab9b924c6f8a6f0ad5e60e5db7",
            "f4b8c7849b2e4c53a8dc896cf28b06f4",
            "b6afe685b23c4a05bfbf82a5027f1ef0",
            "81171e604ee54752944d93f5ac3924ff",
            "817c07ff3de942b78d3d540b3eb54c6f",
            "2dacfbef4db14b8c8ff4d0b73bec7d7f",
            "295b692ef2fd4557a5bc8813f51608fb",
            "2c7372213ac940d8b5acd21774f58c9e",
            "b282aec752dc402c9f8928a5b57ccd8e",
            "243aab3f2fab416da3e6d213aa0020f7",
            "eaf833c11981471e9fee48417f9b1561",
            "acc3485dbd06498c9b1bc334a3464e8c",
            "21734589ce764b2eb2ff449257cfc0ec",
            "d10f7cbec25c4f3ca9f82cb78d876d8b",
            "ae0b1f49ea114cbab2cbe73eac95ba2e",
            "4d72361e84e14827b9fda76440616774",
            "a3c33bd2d6504f78b0eb21fb755ff4f5",
            "989f4835daa649e287d985a60935cb0b",
            "dd05ab31eb554dd19ff52a7d871aa7cb",
            "63166852fe8f4f2daca5317fda27c661",
            "469d62637c13451097cf94a5845600dc",
            "26db50f782b34111955c3f3273b9046c",
            "ebf1642fd04c42d89f7feee77b351abe",
            "1e1468e13da247d69ef1179057e221d4",
            "a610ee766f5b4820ae18ecd4867c00db",
            "e2e29aec0d034f01a601d544afa62224",
            "219ced5120d2418aafe1bc77bc7473c4",
            "c501b5988b084d9d84da0be376581c4d",
            "19cfce4aabb84e99ae896624f014f385",
            "eab705a3bb2a443aa39d36aee1167560",
            "d41e21bc87564a328d99b06cf4169eed",
            "7ab3d8a8a8c24a858e63860a8d463fae",
            "7cc0f3bf0cb54d20bc7367c1159af669",
            "29ec60526e944893bf51e9b2b9a182ce",
            "c5f4e34e395042d384f47e680f40663a",
            "b13db924a3ce402493973465fbe41159",
            "cb2b3d922c644cfda4038e93399569ff",
            "123398c8930842a4ad693944eea47265",
            "927db79da91143a4b7149c885093fdb9",
            "b5ac216542a249859ebe7d6ab005e030",
            "a3b4b753756d48a7897a24fe1da81eac",
            "c6c73e48755c4efb9c787b8a610f9a25",
            "c8c4608590f94d0e8ced2e4fab986097",
            "ad2b9abd2fc84021ad11473218ef0633",
            "ee3fab4f0bed456a8bd8927c52fac55a",
            "4d699c6c514f4da8bc727c3b385ebb8f",
            "1e8b1a262ad54deb8f48cc438b03c7b8",
            "b9313a3b14194b14bdae21277dcc7ac1"
          ]
        },
        "id": "duV6aeI6Rb4f",
        "outputId": "56d53f2a-2040-49a0-e8cf-2d60a0be7698"
      },
      "execution_count": 23,
      "outputs": [
        {
          "output_type": "display_data",
          "data": {
            "text/plain": [
              "config.json:   0%|          | 0.00/2.43k [00:00<?, ?B/s]"
            ],
            "application/vnd.jupyter.widget-view+json": {
              "version_major": 2,
              "version_minor": 0,
              "model_id": "155c4c3424564fb0bd0676addc21327b"
            }
          },
          "metadata": {}
        },
        {
          "output_type": "display_data",
          "data": {
            "text/plain": [
              "configuration_florence2.py:   0%|          | 0.00/15.1k [00:00<?, ?B/s]"
            ],
            "application/vnd.jupyter.widget-view+json": {
              "version_major": 2,
              "version_minor": 0,
              "model_id": "bd477c63f40644059b20dd48fffe8c38"
            }
          },
          "metadata": {}
        },
        {
          "output_type": "display_data",
          "data": {
            "text/plain": [
              "modeling_florence2.py:   0%|          | 0.00/127k [00:00<?, ?B/s]"
            ],
            "application/vnd.jupyter.widget-view+json": {
              "version_major": 2,
              "version_minor": 0,
              "model_id": "ca7589dddd8b47bcb9872d1ece7d0e91"
            }
          },
          "metadata": {}
        },
        {
          "output_type": "display_data",
          "data": {
            "text/plain": [
              "pytorch_model.bin:   0%|          | 0.00/464M [00:00<?, ?B/s]"
            ],
            "application/vnd.jupyter.widget-view+json": {
              "version_major": 2,
              "version_minor": 0,
              "model_id": "dcc0d4b3f7e54cc2a4be66c195dfac00"
            }
          },
          "metadata": {}
        },
        {
          "output_type": "stream",
          "name": "stderr",
          "text": [
            "Florence2LanguageForConditionalGeneration has generative capabilities, as `prepare_inputs_for_generation` is explicitly overwritten. However, it doesn't directly inherit from `GenerationMixin`. From 👉v4.50👈 onwards, `PreTrainedModel` will NOT inherit from `GenerationMixin`, and this model will lose the ability to call `generate` and other related functions.\n",
            "  - If you're using `trust_remote_code=True`, you can get rid of this warning by loading the model with an auto class. See https://huggingface.co/docs/transformers/en/model_doc/auto#auto-classes\n",
            "  - If you are the owner of the model architecture code, please modify your model class such that it inherits from `GenerationMixin` (after `PreTrainedModel`, otherwise you'll get an exception).\n",
            "  - If you are not the owner of the model architecture class, please contact the model code owner to update it.\n"
          ]
        },
        {
          "output_type": "display_data",
          "data": {
            "text/plain": [
              "preprocessor_config.json:   0%|          | 0.00/806 [00:00<?, ?B/s]"
            ],
            "application/vnd.jupyter.widget-view+json": {
              "version_major": 2,
              "version_minor": 0,
              "model_id": "b70499f6caad4c13b02144ded1b55cef"
            }
          },
          "metadata": {}
        },
        {
          "output_type": "display_data",
          "data": {
            "text/plain": [
              "processing_florence2.py:   0%|          | 0.00/46.4k [00:00<?, ?B/s]"
            ],
            "application/vnd.jupyter.widget-view+json": {
              "version_major": 2,
              "version_minor": 0,
              "model_id": "817c07ff3de942b78d3d540b3eb54c6f"
            }
          },
          "metadata": {}
        },
        {
          "output_type": "display_data",
          "data": {
            "text/plain": [
              "tokenizer_config.json:   0%|          | 0.00/34.0 [00:00<?, ?B/s]"
            ],
            "application/vnd.jupyter.widget-view+json": {
              "version_major": 2,
              "version_minor": 0,
              "model_id": "4d72361e84e14827b9fda76440616774"
            }
          },
          "metadata": {}
        },
        {
          "output_type": "display_data",
          "data": {
            "text/plain": [
              "vocab.json:   0%|          | 0.00/1.10M [00:00<?, ?B/s]"
            ],
            "application/vnd.jupyter.widget-view+json": {
              "version_major": 2,
              "version_minor": 0,
              "model_id": "219ced5120d2418aafe1bc77bc7473c4"
            }
          },
          "metadata": {}
        },
        {
          "output_type": "display_data",
          "data": {
            "text/plain": [
              "tokenizer.json:   0%|          | 0.00/1.36M [00:00<?, ?B/s]"
            ],
            "application/vnd.jupyter.widget-view+json": {
              "version_major": 2,
              "version_minor": 0,
              "model_id": "123398c8930842a4ad693944eea47265"
            }
          },
          "metadata": {}
        },
        {
          "output_type": "stream",
          "name": "stderr",
          "text": [
            "A new version of the following files was downloaded from https://huggingface.co/microsoft/Florence-2-base-ft:\n",
            "- configuration_florence2.py\n",
            ". Make sure to double-check they do not contain any added malicious code. To avoid downloading new versions of the code file, you can pin a revision.\n"
          ]
        }
      ]
    },
    {
      "cell_type": "code",
      "source": [
        "# @title Define `DetectionsDataset` class\n",
        "\n",
        "class JSONLDataset:\n",
        "    def __init__(self, jsonl_file_path: str, image_directory_path: str):\n",
        "        self.jsonl_file_path = jsonl_file_path\n",
        "        self.image_directory_path = image_directory_path\n",
        "        self.entries = self._load_entries()\n",
        "\n",
        "    def _load_entries(self) -> List[Dict[str, Any]]:\n",
        "        entries = []\n",
        "        with open(self.jsonl_file_path, 'r') as file:\n",
        "            for line in file:\n",
        "                data = json.loads(line)\n",
        "                entries.append(data)\n",
        "        return entries\n",
        "\n",
        "    def __len__(self) -> int:\n",
        "        return len(self.entries)\n",
        "\n",
        "    def __getitem__(self, idx: int) -> Tuple[Image.Image, Dict[str, Any]]:\n",
        "        if idx < 0 or idx >= len(self.entries):\n",
        "            raise IndexError(\"Index out of range\")\n",
        "\n",
        "        entry = self.entries[idx]\n",
        "        image_path = os.path.join(self.image_directory_path, entry['image'])\n",
        "        try:\n",
        "            image = Image.open(image_path)\n",
        "            return (image, entry)\n",
        "        except FileNotFoundError:\n",
        "            raise FileNotFoundError(f\"Image file {image_path} not found.\")\n",
        "\n",
        "\n",
        "class DetectionDataset(Dataset):\n",
        "    def __init__(self, jsonl_file_path: str, image_directory_path: str):\n",
        "        self.dataset = JSONLDataset(jsonl_file_path, image_directory_path)\n",
        "\n",
        "    def __len__(self):\n",
        "        return len(self.dataset)\n",
        "\n",
        "    def __getitem__(self, idx):\n",
        "        image, data = self.dataset[idx]\n",
        "        prefix = data['prefix']\n",
        "        suffix = data['suffix']\n",
        "        return prefix, suffix, image"
      ],
      "metadata": {
        "id": "n-7_h_-hOZUr"
      },
      "execution_count": 16,
      "outputs": []
    },
    {
      "cell_type": "code",
      "source": [
        "# @title Initiate `DetectionsDataset` and `DataLoader` for train and validation subsets\n",
        "\n",
        "BATCH_SIZE = 6\n",
        "NUM_WORKERS = 0\n",
        "\n",
        "def collate_fn(batch):\n",
        "    questions, answers, images = zip(*batch)\n",
        "    images = [image.convert('RGB') for image in images]\n",
        "    inputs = processor(text=list(questions), images=list(images), return_tensors=\"pt\", padding=True).to(DEVICE)\n",
        "    return inputs, answers\n",
        "\n",
        "train_dataset = DetectionDataset(\n",
        "    jsonl_file_path = \"dataset/train/annotation.jsonl\",\n",
        "    image_directory_path = \"dataset/train/\"\n",
        ")\n",
        "val_dataset = DetectionDataset(\n",
        "    jsonl_file_path = \"dataset/valid/annotation.jsonl\",\n",
        "    image_directory_path = \"dataset/valid/\"\n",
        ")\n",
        "\n",
        "train_loader = DataLoader(train_dataset, batch_size=BATCH_SIZE, collate_fn=collate_fn, num_workers=NUM_WORKERS, shuffle=True)\n",
        "val_loader = DataLoader(val_dataset, batch_size=BATCH_SIZE, collate_fn=collate_fn, num_workers=NUM_WORKERS)"
      ],
      "metadata": {
        "id": "IRHWArRVOZXU"
      },
      "execution_count": 38,
      "outputs": []
    },
    {
      "cell_type": "code",
      "source": [],
      "metadata": {
        "id": "L_rSi86mPwIF"
      },
      "execution_count": null,
      "outputs": []
    },
    {
      "cell_type": "markdown",
      "source": [
        "### Setup LoRA Florence-2 model\n"
      ],
      "metadata": {
        "id": "Dzh6aty6PQjV"
      }
    },
    {
      "cell_type": "markdown",
      "source": [
        "LoRA is low-rank decomposition method to reduce the number of trainable parameters which speeds up finetuning large models and uses less memory."
      ],
      "metadata": {
        "id": "IV-Boj-oPVPj"
      }
    },
    {
      "cell_type": "code",
      "source": [
        "# @title Config Lora\n",
        "config = LoraConfig(\n",
        "    r=8,\n",
        "    lora_alpha=8,\n",
        "    target_modules=[\"q_proj\", \"o_proj\", \"k_proj\", \"v_proj\", \"linear\", \"Conv2d\", \"lm_head\", \"fc2\"],\n",
        "    task_type=\"CAUSAL_LM\",\n",
        "    lora_dropout=0.05,\n",
        "    bias=\"none\",\n",
        "    inference_mode=False,\n",
        "    use_rslora=True,\n",
        "    init_lora_weights=\"gaussian\",\n",
        "    revision=REVISION\n",
        ")\n",
        "\n",
        "peft_model = get_peft_model(model, config)\n",
        "peft_model.print_trainable_parameters()"
      ],
      "metadata": {
        "colab": {
          "base_uri": "https://localhost:8080/"
        },
        "id": "TX3GmLXhOZZ5",
        "outputId": "1659853a-9a02-4e91-ca26-5e158c2e86f8"
      },
      "execution_count": 39,
      "outputs": [
        {
          "output_type": "stream",
          "name": "stdout",
          "text": [
            "trainable params: 1,929,928 || all params: 272,733,896 || trainable%: 0.7076\n"
          ]
        }
      ]
    },
    {
      "cell_type": "code",
      "source": [
        "torch.cuda.empty_cache()\n"
      ],
      "metadata": {
        "id": "IkgEkk7aIrH9"
      },
      "execution_count": 40,
      "outputs": []
    },
    {
      "cell_type": "code",
      "source": [],
      "metadata": {
        "id": "8WZdwPs3VLLY"
      },
      "execution_count": null,
      "outputs": []
    },
    {
      "source": [
        "# @title Run inference with pre-trained Florence-2 model on validation dataset\n",
        "\n",
        "def render_inline(image: Image.Image, resize=(128, 128)):\n",
        "    \"\"\"Convert image into inline html.\"\"\"\n",
        "    image.resize(resize)\n",
        "    with io.BytesIO() as buffer:\n",
        "        image.save(buffer, format='png')\n",
        "        image_b64 = str(base64.b64encode(buffer.getvalue()), \"utf-8\")\n",
        "        return f\"data:image/png;base64,{image_b64}\"\n",
        "\n",
        "\n",
        "def render_example(image: Image.Image, response):\n",
        "    # try:\n",
        "      detections = sv.Detections.from_lmm(sv.LMM.FLORENCE_2, response, resolution_wh=image.size)\n",
        "      image = sv.BoundingBoxAnnotator(color_lookup=sv.ColorLookup.INDEX).annotate(image.copy(), detections)\n",
        "      image = sv.LabelAnnotator(color_lookup=sv.ColorLookup.INDEX).annotate(image, detections)\n",
        "      if detections is not None:\n",
        "        utils.plot_bbox(detections, image)\n",
        "      # except:\n",
        "      #print('failed to render model response')\n",
        "      return f\"\"\"\n",
        "\n",
        "\n",
        "      {html.escape(json.dumps(response))}\n",
        "      \"\"\"\n",
        "\n",
        "\n",
        "def render_inference_results(model, dataset: DetectionDataset, count: int):\n",
        "    html_out = \"\"\n",
        "    count = min(count, len(dataset))\n",
        "    for i in range(count):\n",
        "        image, data = dataset.dataset[i]\n",
        "        prefix = data['prefix']\n",
        "        suffix = data['suffix']\n",
        "        # Ensure the image is in RGB format and has the correct shape.\n",
        "        image = image.convert('RGB')  # Convert to RGB format\n",
        "\n",
        "        inputs = processor(text=prefix, images=image, return_tensors=\"pt\").to(DEVICE)\n",
        "        generated_ids = model.generate(\n",
        "            input_ids=inputs[\"input_ids\"],\n",
        "            pixel_values=inputs[\"pixel_values\"],\n",
        "            max_new_tokens=1024,\n",
        "            num_beams=3\n",
        "        )\n",
        "        generated_text = processor.batch_decode(generated_ids, skip_special_tokens=False)[0]\n",
        "        answer = processor.post_process_generation(generated_text, task='<OD>', image_size=image.size)\n",
        "        if answer is not None:\n",
        "          html_out += render_example(image, answer)\n",
        "    print(html_out)\n",
        "    # display(HTML(html_out))\n",
        "\n",
        "render_inference_results(peft_model, val_dataset, 4)"
      ],
      "cell_type": "code",
      "metadata": {
        "colab": {
          "base_uri": "https://localhost:8080/",
          "height": 1000
        },
        "id": "kPQLN6T2W-_8",
        "outputId": "f5ba039e-c642-49c9-f617-3ffe3b90bc0d"
      },
      "execution_count": 48,
      "outputs": [
        {
          "output_type": "stream",
          "name": "stderr",
          "text": [
            "BoundingBoxAnnotator is deprecated: `BoundingBoxAnnotator` is deprecated and has been renamed to `BoxAnnotator`. `BoundingBoxAnnotator` will be removed in supervision-0.26.0.\n"
          ]
        },
        {
          "output_type": "error",
          "ename": "TypeError",
          "evalue": "'NoneType' object is not iterable",
          "traceback": [
            "\u001b[0;31m---------------------------------------------------------------------------\u001b[0m",
            "\u001b[0;31mTypeError\u001b[0m                                 Traceback (most recent call last)",
            "\u001b[0;32m<ipython-input-48-279277b7344a>\u001b[0m in \u001b[0;36m<cell line: 52>\u001b[0;34m()\u001b[0m\n\u001b[1;32m     50\u001b[0m     \u001b[0;31m# display(HTML(html_out))\u001b[0m\u001b[0;34m\u001b[0m\u001b[0;34m\u001b[0m\u001b[0m\n\u001b[1;32m     51\u001b[0m \u001b[0;34m\u001b[0m\u001b[0m\n\u001b[0;32m---> 52\u001b[0;31m \u001b[0mrender_inference_results\u001b[0m\u001b[0;34m(\u001b[0m\u001b[0mpeft_model\u001b[0m\u001b[0;34m,\u001b[0m \u001b[0mval_dataset\u001b[0m\u001b[0;34m,\u001b[0m \u001b[0;36m4\u001b[0m\u001b[0;34m)\u001b[0m\u001b[0;34m\u001b[0m\u001b[0;34m\u001b[0m\u001b[0m\n\u001b[0m",
            "\u001b[0;32m<ipython-input-48-279277b7344a>\u001b[0m in \u001b[0;36mrender_inference_results\u001b[0;34m(model, dataset, count)\u001b[0m\n\u001b[1;32m     46\u001b[0m         \u001b[0manswer\u001b[0m \u001b[0;34m=\u001b[0m \u001b[0mprocessor\u001b[0m\u001b[0;34m.\u001b[0m\u001b[0mpost_process_generation\u001b[0m\u001b[0;34m(\u001b[0m\u001b[0mgenerated_text\u001b[0m\u001b[0;34m,\u001b[0m \u001b[0mtask\u001b[0m\u001b[0;34m=\u001b[0m\u001b[0;34m'<OD>'\u001b[0m\u001b[0;34m,\u001b[0m \u001b[0mimage_size\u001b[0m\u001b[0;34m=\u001b[0m\u001b[0mimage\u001b[0m\u001b[0;34m.\u001b[0m\u001b[0msize\u001b[0m\u001b[0;34m)\u001b[0m\u001b[0;34m\u001b[0m\u001b[0;34m\u001b[0m\u001b[0m\n\u001b[1;32m     47\u001b[0m         \u001b[0;32mif\u001b[0m \u001b[0manswer\u001b[0m \u001b[0;32mis\u001b[0m \u001b[0;32mnot\u001b[0m \u001b[0;32mNone\u001b[0m\u001b[0;34m:\u001b[0m\u001b[0;34m\u001b[0m\u001b[0;34m\u001b[0m\u001b[0m\n\u001b[0;32m---> 48\u001b[0;31m           \u001b[0mhtml_out\u001b[0m \u001b[0;34m+=\u001b[0m \u001b[0mrender_example\u001b[0m\u001b[0;34m(\u001b[0m\u001b[0mimage\u001b[0m\u001b[0;34m,\u001b[0m \u001b[0manswer\u001b[0m\u001b[0;34m)\u001b[0m\u001b[0;34m\u001b[0m\u001b[0;34m\u001b[0m\u001b[0m\n\u001b[0m\u001b[1;32m     49\u001b[0m     \u001b[0mprint\u001b[0m\u001b[0;34m(\u001b[0m\u001b[0mhtml_out\u001b[0m\u001b[0;34m)\u001b[0m\u001b[0;34m\u001b[0m\u001b[0;34m\u001b[0m\u001b[0m\n\u001b[1;32m     50\u001b[0m     \u001b[0;31m# display(HTML(html_out))\u001b[0m\u001b[0;34m\u001b[0m\u001b[0;34m\u001b[0m\u001b[0m\n",
            "\u001b[0;32m<ipython-input-48-279277b7344a>\u001b[0m in \u001b[0;36mrender_example\u001b[0;34m(image, response)\u001b[0m\n\u001b[1;32m     16\u001b[0m       \u001b[0mimage\u001b[0m \u001b[0;34m=\u001b[0m \u001b[0msv\u001b[0m\u001b[0;34m.\u001b[0m\u001b[0mLabelAnnotator\u001b[0m\u001b[0;34m(\u001b[0m\u001b[0mcolor_lookup\u001b[0m\u001b[0;34m=\u001b[0m\u001b[0msv\u001b[0m\u001b[0;34m.\u001b[0m\u001b[0mColorLookup\u001b[0m\u001b[0;34m.\u001b[0m\u001b[0mINDEX\u001b[0m\u001b[0;34m)\u001b[0m\u001b[0;34m.\u001b[0m\u001b[0mannotate\u001b[0m\u001b[0;34m(\u001b[0m\u001b[0mimage\u001b[0m\u001b[0;34m,\u001b[0m \u001b[0mdetections\u001b[0m\u001b[0;34m)\u001b[0m\u001b[0;34m\u001b[0m\u001b[0;34m\u001b[0m\u001b[0m\n\u001b[1;32m     17\u001b[0m       \u001b[0;32mif\u001b[0m \u001b[0mdetections\u001b[0m \u001b[0;32mis\u001b[0m \u001b[0;32mnot\u001b[0m \u001b[0;32mNone\u001b[0m\u001b[0;34m:\u001b[0m\u001b[0;34m\u001b[0m\u001b[0;34m\u001b[0m\u001b[0m\n\u001b[0;32m---> 18\u001b[0;31m         \u001b[0mutils\u001b[0m\u001b[0;34m.\u001b[0m\u001b[0mplot_bbox\u001b[0m\u001b[0;34m(\u001b[0m\u001b[0mdetections\u001b[0m\u001b[0;34m,\u001b[0m \u001b[0mimage\u001b[0m\u001b[0;34m)\u001b[0m\u001b[0;34m\u001b[0m\u001b[0;34m\u001b[0m\u001b[0m\n\u001b[0m\u001b[1;32m     19\u001b[0m       \u001b[0;31m# except:\u001b[0m\u001b[0;34m\u001b[0m\u001b[0;34m\u001b[0m\u001b[0m\n\u001b[1;32m     20\u001b[0m       \u001b[0;31m#print('failed to render model response')\u001b[0m\u001b[0;34m\u001b[0m\u001b[0;34m\u001b[0m\u001b[0m\n",
            "\u001b[0;32m/content/utils.py\u001b[0m in \u001b[0;36mplot_bbox\u001b[0;34m(data, image)\u001b[0m\n\u001b[1;32m    119\u001b[0m \u001b[0;34m\u001b[0m\u001b[0m\n\u001b[1;32m    120\u001b[0m     \u001b[0;31m# Plot each bounding box\u001b[0m\u001b[0;34m\u001b[0m\u001b[0;34m\u001b[0m\u001b[0m\n\u001b[0;32m--> 121\u001b[0;31m     \u001b[0;32mfor\u001b[0m \u001b[0mbbox\u001b[0m\u001b[0;34m,\u001b[0m \u001b[0mlabel\u001b[0m \u001b[0;32min\u001b[0m \u001b[0mzip\u001b[0m\u001b[0;34m(\u001b[0m\u001b[0mdata\u001b[0m\u001b[0;34m[\u001b[0m\u001b[0;34m'bboxes'\u001b[0m\u001b[0;34m]\u001b[0m\u001b[0;34m,\u001b[0m \u001b[0mdata\u001b[0m\u001b[0;34m[\u001b[0m\u001b[0;34m'labels'\u001b[0m\u001b[0;34m]\u001b[0m\u001b[0;34m)\u001b[0m\u001b[0;34m:\u001b[0m\u001b[0;34m\u001b[0m\u001b[0;34m\u001b[0m\u001b[0m\n\u001b[0m\u001b[1;32m    122\u001b[0m         \u001b[0;31m# Unpack the bounding box coordinates\u001b[0m\u001b[0;34m\u001b[0m\u001b[0;34m\u001b[0m\u001b[0m\n\u001b[1;32m    123\u001b[0m         \u001b[0mx1\u001b[0m\u001b[0;34m,\u001b[0m \u001b[0my1\u001b[0m\u001b[0;34m,\u001b[0m \u001b[0mx2\u001b[0m\u001b[0;34m,\u001b[0m \u001b[0my2\u001b[0m \u001b[0;34m=\u001b[0m \u001b[0mbbox\u001b[0m\u001b[0;34m\u001b[0m\u001b[0;34m\u001b[0m\u001b[0m\n",
            "\u001b[0;31mTypeError\u001b[0m: 'NoneType' object is not iterable"
          ]
        },
        {
          "output_type": "display_data",
          "data": {
            "text/plain": [
              "<Figure size 640x480 with 1 Axes>"
            ],
            "image/png": "[encoded data removed]"
          },
          "metadata": {}
        }
      ]
    },
    {
      "cell_type": "code",
      "source": [],
      "metadata": {
        "id": "wPB2pWrDVLN7"
      },
      "execution_count": null,
      "outputs": []
    },
    {
      "cell_type": "code",
      "source": [],
      "metadata": {
        "id": "woCt4L-bVLQf"
      },
      "execution_count": null,
      "outputs": []
    },
    {
      "cell_type": "code",
      "source": [
        "\n",
        "# @title Define train loop\n",
        "\n",
        "def train_model(train_loader, val_loader, model, processor, epochs=10, lr=1e-6):\n",
        "    optimizer = AdamW(model.parameters(), lr=lr)\n",
        "    num_training_steps = epochs * len(train_loader)\n",
        "    lr_scheduler = get_scheduler(\n",
        "        name=\"linear\",\n",
        "        optimizer=optimizer,\n",
        "        num_warmup_steps=0,\n",
        "        num_training_steps=num_training_steps,\n",
        "    )\n",
        "\n",
        "    render_inference_results(peft_model, val_loader.dataset, 6)\n",
        "\n",
        "    for epoch in range(epochs):\n",
        "        model.train()\n",
        "        train_loss = 0\n",
        "        for inputs, answers in tqdm(train_loader, desc=f\"Training Epoch {epoch + 1}/{epochs}\"):\n",
        "\n",
        "            input_ids = inputs[\"input_ids\"]\n",
        "            pixel_values = inputs[\"pixel_values\"]\n",
        "            labels = processor.tokenizer(\n",
        "                text=answers,\n",
        "                return_tensors=\"pt\",\n",
        "                padding=True,\n",
        "                return_token_type_ids=False\n",
        "            ).input_ids.to(DEVICE)\n",
        "\n",
        "            outputs = model(input_ids=input_ids, pixel_values=pixel_values, labels=labels)\n",
        "            loss = outputs.loss\n",
        "\n",
        "            loss.backward(), optimizer.step(), lr_scheduler.step(), optimizer.zero_grad()\n",
        "            train_loss += loss.item()\n",
        "\n",
        "        avg_train_loss = train_loss / len(train_loader)\n",
        "        print(f\"Average Training Loss: {avg_train_loss}\")\n",
        "\n",
        "        model.eval()\n",
        "        val_loss = 0\n",
        "        with torch.no_grad():\n",
        "            for inputs, answers in tqdm(val_loader, desc=f\"Validation Epoch {epoch + 1}/{epochs}\"):\n",
        "\n",
        "                input_ids = inputs[\"input_ids\"]\n",
        "                pixel_values = inputs[\"pixel_values\"]\n",
        "                labels = processor.tokenizer(\n",
        "                    text=answers,\n",
        "                    return_tensors=\"pt\",\n",
        "                    padding=True,\n",
        "                    return_token_type_ids=False\n",
        "                ).input_ids.to(DEVICE)\n",
        "\n",
        "                outputs = model(input_ids=input_ids, pixel_values=pixel_values, labels=labels)\n",
        "                loss = outputs.loss\n",
        "\n",
        "                val_loss += loss.item()\n",
        "\n",
        "            avg_val_loss = val_loss / len(val_loader)\n",
        "            print(f\"Average Validation Loss: {avg_val_loss}\")\n",
        "\n",
        "            render_inference_results(peft_model, val_loader.dataset, 6)\n",
        "\n",
        "        output_dir = f\"./model_checkpoints/epoch_{epoch+1}\"\n",
        "        os.makedirs(output_dir, exist_ok=True)\n",
        "        model.save_pretrained(output_dir)\n",
        "        processor.save_pretrained(output_dir)"
      ],
      "metadata": {
        "id": "i0WE8A9tVLS5"
      },
      "execution_count": 36,
      "outputs": []
    },
    {
      "cell_type": "code",
      "source": [
        "# @title Run train loop\n",
        "\n",
        "%%time\n",
        "\n",
        "EPOCHS = 10\n",
        "LR = 5e-6\n",
        "\n",
        "train_model(train_loader, val_loader, peft_model, processor, epochs=EPOCHS, lr=LR)"
      ],
      "metadata": {
        "colab": {
          "base_uri": "https://localhost:8080/",
          "height": 1000
        },
        "id": "n4i3D5o4VLU3",
        "outputId": "14e4ca36-5152-417e-8a95-39ae111187f8"
      },
      "execution_count": 41,
      "outputs": [
        {
          "output_type": "stream",
          "name": "stderr",
          "text": [
            "This implementation of AdamW is deprecated and will be removed in a future version. Use the PyTorch implementation torch.optim.AdamW instead, or set `no_deprecation_warning=True` to disable this warning\n",
            "BoundingBoxAnnotator is deprecated: `BoundingBoxAnnotator` is deprecated and has been renamed to `BoxAnnotator`. `BoundingBoxAnnotator` will be removed in supervision-0.26.0.\n"
          ]
        },
        {
          "output_type": "stream",
          "name": "stdout",
          "text": [
            "failed to redner model response\n"
          ]
        },
        {
          "output_type": "stream",
          "name": "stderr",
          "text": [
            "BoundingBoxAnnotator is deprecated: `BoundingBoxAnnotator` is deprecated and has been renamed to `BoxAnnotator`. `BoundingBoxAnnotator` will be removed in supervision-0.26.0.\n"
          ]
        },
        {
          "output_type": "stream",
          "name": "stdout",
          "text": [
            "failed to redner model response\n",
            "failed to redner model response\n"
          ]
        },
        {
          "output_type": "stream",
          "name": "stderr",
          "text": [
            "BoundingBoxAnnotator is deprecated: `BoundingBoxAnnotator` is deprecated and has been renamed to `BoxAnnotator`. `BoundingBoxAnnotator` will be removed in supervision-0.26.0.\n"
          ]
        },
        {
          "output_type": "display_data",
          "data": {
            "text/plain": [
              "<IPython.core.display.HTML object>"
            ],
            "text/html": [
              "\n",
              "\n",
              "    \n",
              "    {&quot;&lt;OD&gt;&quot;: {&quot;bboxes&quot;: [[495.4049987792969, 257.8289794921875, 832.7449951171875, 530.6729736328125], [565.094970703125, 207.20700073242188, 674.1749877929688, 264.6929931640625], [773.1549682617188, 200.34300231933594, 826.6849975585938, 227.7989959716797], [793.35498046875, 192.62100219726562, 838.8049926757812, 208.92298889160156], [713.5650024414062, 450.8789978027344, 763.0549926757812, 531.531005859375], [798.4049682617188, 386.52899169921875, 830.7249755859375, 441.44097900390625]], &quot;labels&quot;: [&quot;car&quot;, &quot;car&quot;, &quot;car&quot;, &quot;car&quot;, &quot;wheel&quot;, &quot;wheel&quot;]}}\n",
              "\n",
              "\n",
              "\n",
              "    \n",
              "    {&quot;&lt;OD&gt;&quot;: {&quot;bboxes&quot;: [[244.38751220703125, 74.19100189208984, 608.2125244140625, 272.6190185546875], [900.9874877929688, 0.4390000104904175, 1128.8375244140625, 83.8489990234375], [70.4375, 40.82699966430664, 228.46250915527344, 131.26100158691406], [1039.4124755859375, 0.4390000104904175, 1147.2125244140625, 22.388999938964844], [0.612500011920929, 48.729000091552734, 17.762500762939453, 100.531005859375], [48.38750076293945, 0.4390000104904175, 93.7125015258789, 17.121000289916992], [418.3374938964844, 201.50100708007812, 489.38751220703125, 270.8630065917969], [257.8625183105469, 168.1370086669922, 311.76251220703125, 231.35301208496094], [1051.6624755859375, 54.875, 1089.6375732421875, 84.72700500488281], [914.4625244140625, 31.16900062561035, 951.2125244140625, 58.387001037597656], [128.0124969482422, 104.04299926757812, 158.6374969482422, 131.26100158691406], [69.2125015258789, 96.14099884033203, 94.9375, 125.99300384521484], [1114.1375732421875, 3.072999954223633, 1142.3125, 22.388999938964844], [1044.3125, 0.4390000104904175, 1072.487548828125, 10.975000381469727]], &quot;labels&quot;: [&quot;car&quot;, &quot;car&quot;, &quot;car&quot;, &quot;car&quot;, &quot;car&quot;, &quot;car&quot;, &quot;wheel&quot;, &quot;wheel&quot;, &quot;wheel&quot;, &quot;wheel&quot;, &quot;wheel&quot;, &quot;wheel&quot;, &quot;wheel&quot;, &quot;wheel&quot;]}}\n",
              "\n",
              "\n",
              "\n",
              "    \n",
              "    {&quot;&lt;OD&gt;&quot;: {&quot;bboxes&quot;: [[140.55950927734375, 260.5845031738281, 453.072509765625, 435.23651123046875], [1286.4405517578125, 321.89849853515625, 1424.8594970703125, 358.1295166015625], [364.5985107421875, 219.70851135253906, 441.6565246582031, 243.8625030517578], [1289.2945556640625, 322.8275146484375, 1352.08251953125, 350.697509765625], [1359.217529296875, 332.11749267578125, 1419.1514892578125, 356.2715148925781], [1175.134521484375, 302.3894958496094, 1232.214599609375, 320.9695129394531]], &quot;labels&quot;: [&quot;car&quot;, &quot;car&quot;, &quot;car&quot;, &quot;car&quot;, &quot;car&quot;, &quot;car&quot;]}}\n",
              "\n"
            ]
          },
          "metadata": {}
        },
        {
          "output_type": "stream",
          "name": "stderr",
          "text": [
            "Training Epoch 1/10: 100%|██████████| 2/2 [00:01<00:00,  1.08it/s]\n"
          ]
        },
        {
          "output_type": "stream",
          "name": "stdout",
          "text": [
            "Average Training Loss: 8.947503089904785\n"
          ]
        },
        {
          "output_type": "stream",
          "name": "stderr",
          "text": [
            "Validation Epoch 1/10: 100%|██████████| 1/1 [00:00<00:00,  2.70it/s]\n"
          ]
        },
        {
          "output_type": "stream",
          "name": "stdout",
          "text": [
            "Average Validation Loss: 9.411639213562012\n"
          ]
        },
        {
          "output_type": "stream",
          "name": "stderr",
          "text": [
            "BoundingBoxAnnotator is deprecated: `BoundingBoxAnnotator` is deprecated and has been renamed to `BoxAnnotator`. `BoundingBoxAnnotator` will be removed in supervision-0.26.0.\n"
          ]
        },
        {
          "output_type": "stream",
          "name": "stdout",
          "text": [
            "failed to redner model response\n"
          ]
        },
        {
          "output_type": "stream",
          "name": "stderr",
          "text": [
            "BoundingBoxAnnotator is deprecated: `BoundingBoxAnnotator` is deprecated and has been renamed to `BoxAnnotator`. `BoundingBoxAnnotator` will be removed in supervision-0.26.0.\n"
          ]
        },
        {
          "output_type": "stream",
          "name": "stdout",
          "text": [
            "failed to redner model response\n",
            "failed to redner model response\n"
          ]
        },
        {
          "output_type": "stream",
          "name": "stderr",
          "text": [
            "BoundingBoxAnnotator is deprecated: `BoundingBoxAnnotator` is deprecated and has been renamed to `BoxAnnotator`. `BoundingBoxAnnotator` will be removed in supervision-0.26.0.\n"
          ]
        },
        {
          "output_type": "display_data",
          "data": {
            "text/plain": [
              "<IPython.core.display.HTML object>"
            ],
            "text/html": [
              "\n",
              "\n",
              "    \n",
              "    {&quot;&lt;OD&gt;&quot;: {&quot;bboxes&quot;: [[495.4049987792969, 256.1130065917969, 834.7650146484375, 531.531005859375], [567.114990234375, 208.06500244140625, 671.14501953125, 265.5509948730469], [913.5449829101562, 192.62100219726562, 997.375, 220.07699584960938], [774.1649780273438, 199.48500061035156, 827.6950073242188, 227.7989959716797], [795.375, 192.62100219726562, 839.8150024414062, 208.92298889160156], [715.5850219726562, 450.8789978027344, 765.0750122070312, 531.531005859375], [799.4149780273438, 386.52899169921875, 831.7349853515625, 441.44097900390625]], &quot;labels&quot;: [&quot;car&quot;, &quot;car&quot;, &quot;car&quot;, &quot;car&quot;, &quot;car&quot;, &quot;wheel&quot;, &quot;wheel&quot;]}}\n",
              "\n",
              "\n",
              "\n",
              "    \n",
              "    {&quot;&lt;OD&gt;&quot;: {&quot;bboxes&quot;: [[244.38751220703125, 73.31300354003906, 608.2125244140625, 271.7409973144531], [900.9874877929688, 0.4390000104904175, 1128.8375244140625, 83.8489990234375], [67.98750305175781, 39.94900131225586, 230.91250610351562, 130.38299560546875], [1038.1875, 0.4390000104904175, 1148.4375, 21.51099967956543], [0.612500011920929, 46.972999572753906, 17.762500762939453, 99.65299987792969], [47.16250228881836, 0.4390000104904175, 94.9375, 15.36500072479248], [417.1125183105469, 200.6230010986328, 494.2875061035156, 269.10699462890625], [259.0874938964844, 168.1370086669922, 311.76251220703125, 229.5970001220703], [1054.112548828125, 53.11899948120117, 1092.0875244140625, 82.97100067138672], [915.6875, 29.413000106811523, 952.4375, 57.509002685546875], [129.2375030517578, 102.28700256347656, 159.8625030517578, 130.38299560546875], [70.4375, 95.26300048828125, 96.1624984741211, 124.23699951171875], [1116.5875244140625, 2.195000171661377, 1143.5374755859375, 21.51099967956543], [1046.7625732421875, 0.4390000104904175, 1073.7125244140625, 9.218999862670898]], &quot;labels&quot;: [&quot;car&quot;, &quot;car&quot;, &quot;car&quot;, &quot;car&quot;, &quot;car&quot;, &quot;car&quot;, &quot;wheel&quot;, &quot;wheel&quot;, &quot;wheel&quot;, &quot;wheel&quot;, &quot;wheel&quot;, &quot;wheel&quot;, &quot;wheel&quot;, &quot;wheel&quot;]}}\n",
              "\n",
              "\n",
              "\n",
              "    \n",
              "    {&quot;&lt;OD&gt;&quot;: {&quot;bboxes&quot;: [[140.55950927734375, 261.5135192871094, 453.072509765625, 435.23651123046875], [1287.8675537109375, 322.8275146484375, 1357.79052734375, 353.4844970703125], [364.5985107421875, 219.70851135253906, 441.6565246582031, 242.93350219726562], [1359.217529296875, 332.11749267578125, 1420.5784912109375, 356.2715148925781], [1175.134521484375, 301.46051025390625, 1233.6414794921875, 320.9695129394531]], &quot;labels&quot;: [&quot;car&quot;, &quot;car&quot;, &quot;car&quot;, &quot;car&quot;, &quot;car&quot;]}}\n",
              "\n"
            ]
          },
          "metadata": {}
        },
        {
          "output_type": "stream",
          "name": "stderr",
          "text": [
            "Setting `save_embedding_layers` to `True` as embedding layers found in `target_modules`.\n",
            "Training Epoch 2/10: 100%|██████████| 2/2 [00:01<00:00,  1.23it/s]\n"
          ]
        },
        {
          "output_type": "stream",
          "name": "stdout",
          "text": [
            "Average Training Loss: 8.036624670028687\n"
          ]
        },
        {
          "output_type": "stream",
          "name": "stderr",
          "text": [
            "Validation Epoch 2/10: 100%|██████████| 1/1 [00:00<00:00,  2.83it/s]\n"
          ]
        },
        {
          "output_type": "stream",
          "name": "stdout",
          "text": [
            "Average Validation Loss: 9.33957576751709\n"
          ]
        },
        {
          "output_type": "stream",
          "name": "stderr",
          "text": [
            "BoundingBoxAnnotator is deprecated: `BoundingBoxAnnotator` is deprecated and has been renamed to `BoxAnnotator`. `BoundingBoxAnnotator` will be removed in supervision-0.26.0.\n"
          ]
        },
        {
          "output_type": "stream",
          "name": "stdout",
          "text": [
            "failed to redner model response\n"
          ]
        },
        {
          "output_type": "stream",
          "name": "stderr",
          "text": [
            "BoundingBoxAnnotator is deprecated: `BoundingBoxAnnotator` is deprecated and has been renamed to `BoxAnnotator`. `BoundingBoxAnnotator` will be removed in supervision-0.26.0.\n"
          ]
        },
        {
          "output_type": "stream",
          "name": "stdout",
          "text": [
            "failed to redner model response\n",
            "failed to redner model response\n"
          ]
        },
        {
          "output_type": "stream",
          "name": "stderr",
          "text": [
            "BoundingBoxAnnotator is deprecated: `BoundingBoxAnnotator` is deprecated and has been renamed to `BoxAnnotator`. `BoundingBoxAnnotator` will be removed in supervision-0.26.0.\n"
          ]
        },
        {
          "output_type": "display_data",
          "data": {
            "text/plain": [
              "<IPython.core.display.HTML object>"
            ],
            "text/html": [
              "\n",
              "\n",
              "    \n",
              "    {&quot;&lt;OD&gt;&quot;: {&quot;bboxes&quot;: [[495.4049987792969, 256.1130065917969, 834.7650146484375, 531.531005859375], [567.114990234375, 208.06500244140625, 671.14501953125, 265.5509948730469], [913.5449829101562, 192.62100219726562, 997.375, 220.07699584960938], [774.1649780273438, 199.48500061035156, 826.6849975585938, 227.7989959716797], [796.385009765625, 192.62100219726562, 839.8150024414062, 208.92298889160156], [715.5850219726562, 450.8789978027344, 765.0750122070312, 531.531005859375], [799.4149780273438, 386.52899169921875, 831.7349853515625, 441.44097900390625]], &quot;labels&quot;: [&quot;car&quot;, &quot;car&quot;, &quot;car&quot;, &quot;car&quot;, &quot;car&quot;, &quot;wheel&quot;, &quot;wheel&quot;]}}\n",
              "\n",
              "\n",
              "\n",
              "    \n",
              "    {&quot;&lt;OD&gt;&quot;: {&quot;bboxes&quot;: [[244.38751220703125, 73.31300354003906, 608.2125244140625, 271.7409973144531], [900.9874877929688, 0.4390000104904175, 1128.8375244140625, 83.8489990234375], [67.98750305175781, 39.94900131225586, 230.91250610351562, 130.38299560546875], [1038.1875, 0.4390000104904175, 1148.4375, 21.51099967956543], [0.612500011920929, 46.972999572753906, 17.762500762939453, 99.65299987792969], [47.16250228881836, 0.4390000104904175, 94.9375, 15.36500072479248], [417.1125183105469, 200.6230010986328, 493.0625, 269.10699462890625], [257.8625183105469, 167.25900268554688, 311.76251220703125, 229.5970001220703], [1052.8875732421875, 53.11899948120117, 1090.862548828125, 82.97100067138672], [914.4625244140625, 29.413000106811523, 951.2125244140625, 57.509002685546875], [128.0124969482422, 102.28700256347656, 157.41250610351562, 130.38299560546875], [69.2125015258789, 96.14099884033203, 94.9375, 124.23699951171875], [1115.362548828125, 2.195000171661377, 1142.3125, 21.51099967956543], [1045.5374755859375, 0.4390000104904175, 1072.487548828125, 9.218999862670898]], &quot;labels&quot;: [&quot;car&quot;, &quot;car&quot;, &quot;car&quot;, &quot;car&quot;, &quot;car&quot;, &quot;car&quot;, &quot;wheel&quot;, &quot;wheel&quot;, &quot;wheel&quot;, &quot;wheel&quot;, &quot;wheel&quot;, &quot;wheel&quot;, &quot;wheel&quot;, &quot;wheel&quot;]}}\n",
              "\n",
              "\n",
              "\n",
              "    \n",
              "    {&quot;&lt;OD&gt;&quot;: {&quot;bboxes&quot;: [[140.55950927734375, 261.5135192871094, 453.072509765625, 435.23651123046875], [1287.8675537109375, 322.8275146484375, 1357.79052734375, 353.4844970703125], [364.5985107421875, 219.70851135253906, 441.6565246582031, 242.93350219726562], [1359.217529296875, 332.11749267578125, 1420.5784912109375, 356.2715148925781], [1175.134521484375, 301.46051025390625, 1233.6414794921875, 320.9695129394531]], &quot;labels&quot;: [&quot;car&quot;, &quot;car&quot;, &quot;car&quot;, &quot;car&quot;, &quot;car&quot;]}}\n",
              "\n"
            ]
          },
          "metadata": {}
        },
        {
          "output_type": "stream",
          "name": "stderr",
          "text": [
            "Training Epoch 3/10: 100%|██████████| 2/2 [00:01<00:00,  1.24it/s]\n"
          ]
        },
        {
          "output_type": "stream",
          "name": "stdout",
          "text": [
            "Average Training Loss: 8.611493349075317\n"
          ]
        },
        {
          "output_type": "stream",
          "name": "stderr",
          "text": [
            "Validation Epoch 3/10: 100%|██████████| 1/1 [00:00<00:00,  2.81it/s]\n"
          ]
        },
        {
          "output_type": "stream",
          "name": "stdout",
          "text": [
            "Average Validation Loss: 9.28174114227295\n"
          ]
        },
        {
          "output_type": "stream",
          "name": "stderr",
          "text": [
            "BoundingBoxAnnotator is deprecated: `BoundingBoxAnnotator` is deprecated and has been renamed to `BoxAnnotator`. `BoundingBoxAnnotator` will be removed in supervision-0.26.0.\n"
          ]
        },
        {
          "output_type": "stream",
          "name": "stdout",
          "text": [
            "failed to redner model response\n"
          ]
        },
        {
          "output_type": "stream",
          "name": "stderr",
          "text": [
            "BoundingBoxAnnotator is deprecated: `BoundingBoxAnnotator` is deprecated and has been renamed to `BoxAnnotator`. `BoundingBoxAnnotator` will be removed in supervision-0.26.0.\n"
          ]
        },
        {
          "output_type": "stream",
          "name": "stdout",
          "text": [
            "failed to redner model response\n",
            "failed to redner model response\n"
          ]
        },
        {
          "output_type": "stream",
          "name": "stderr",
          "text": [
            "BoundingBoxAnnotator is deprecated: `BoundingBoxAnnotator` is deprecated and has been renamed to `BoxAnnotator`. `BoundingBoxAnnotator` will be removed in supervision-0.26.0.\n"
          ]
        },
        {
          "output_type": "display_data",
          "data": {
            "text/plain": [
              "<IPython.core.display.HTML object>"
            ],
            "text/html": [
              "\n",
              "\n",
              "    \n",
              "    {&quot;&lt;OD&gt;&quot;: {&quot;bboxes&quot;: [[495.4049987792969, 256.1130065917969, 834.7650146484375, 531.531005859375], [567.114990234375, 208.06500244140625, 671.14501953125, 265.5509948730469], [913.5449829101562, 192.62100219726562, 997.375, 220.07699584960938], [774.1649780273438, 199.48500061035156, 826.6849975585938, 227.7989959716797], [796.385009765625, 192.62100219726562, 839.8150024414062, 208.92298889160156], [715.5850219726562, 450.8789978027344, 765.0750122070312, 531.531005859375], [799.4149780273438, 386.52899169921875, 831.7349853515625, 441.44097900390625]], &quot;labels&quot;: [&quot;car&quot;, &quot;car&quot;, &quot;car&quot;, &quot;car&quot;, &quot;car&quot;, &quot;wheel&quot;, &quot;wheel&quot;]}}\n",
              "\n",
              "\n",
              "\n",
              "    \n",
              "    {&quot;&lt;OD&gt;&quot;: {&quot;bboxes&quot;: [[244.38751220703125, 73.31300354003906, 608.2125244140625, 271.7409973144531], [900.9874877929688, 0.4390000104904175, 1128.8375244140625, 83.8489990234375], [67.98750305175781, 39.94900131225586, 230.91250610351562, 130.38299560546875], [1035.737548828125, 0.4390000104904175, 1148.4375, 21.51099967956543], [0.612500011920929, 46.972999572753906, 17.762500762939453, 99.65299987792969], [48.38750076293945, 0.4390000104904175, 94.9375, 15.36500072479248], [417.1125183105469, 200.6230010986328, 494.2875061035156, 269.10699462890625], [259.0874938964844, 168.1370086669922, 311.76251220703125, 229.5970001220703], [1054.112548828125, 53.11899948120117, 1092.0875244140625, 82.97100067138672], [915.6875, 29.413000106811523, 952.4375, 57.509002685546875], [129.2375030517578, 102.28700256347656, 159.8625030517578, 130.38299560546875], [70.4375, 95.26300048828125, 96.1624984741211, 124.23699951171875], [1116.5875244140625, 2.195000171661377, 1143.5374755859375, 21.51099967956543], [1046.7625732421875, 0.4390000104904175, 1073.7125244140625, 9.218999862670898]], &quot;labels&quot;: [&quot;car&quot;, &quot;car&quot;, &quot;car&quot;, &quot;car&quot;, &quot;car&quot;, &quot;car&quot;, &quot;wheel&quot;, &quot;wheel&quot;, &quot;wheel&quot;, &quot;wheel&quot;, &quot;wheel&quot;, &quot;wheel&quot;, &quot;wheel&quot;, &quot;wheel&quot;]}}\n",
              "\n",
              "\n",
              "\n",
              "    \n",
              "    {&quot;&lt;OD&gt;&quot;: {&quot;bboxes&quot;: [[140.55950927734375, 261.5135192871094, 453.072509765625, 435.23651123046875], [1287.8675537109375, 322.8275146484375, 1357.79052734375, 353.4844970703125], [364.5985107421875, 219.70851135253906, 441.6565246582031, 242.93350219726562], [1359.217529296875, 332.11749267578125, 1420.5784912109375, 357.20050048828125], [1175.134521484375, 301.46051025390625, 1233.6414794921875, 320.9695129394531]], &quot;labels&quot;: [&quot;car&quot;, &quot;car&quot;, &quot;car&quot;, &quot;car&quot;, &quot;car&quot;]}}\n",
              "\n"
            ]
          },
          "metadata": {}
        },
        {
          "output_type": "stream",
          "name": "stderr",
          "text": [
            "Training Epoch 4/10: 100%|██████████| 2/2 [00:01<00:00,  1.20it/s]\n"
          ]
        },
        {
          "output_type": "stream",
          "name": "stdout",
          "text": [
            "Average Training Loss: 8.61076831817627\n"
          ]
        },
        {
          "output_type": "stream",
          "name": "stderr",
          "text": [
            "Validation Epoch 4/10: 100%|██████████| 1/1 [00:00<00:00,  2.82it/s]\n"
          ]
        },
        {
          "output_type": "stream",
          "name": "stdout",
          "text": [
            "Average Validation Loss: 9.232539176940918\n"
          ]
        },
        {
          "output_type": "stream",
          "name": "stderr",
          "text": [
            "BoundingBoxAnnotator is deprecated: `BoundingBoxAnnotator` is deprecated and has been renamed to `BoxAnnotator`. `BoundingBoxAnnotator` will be removed in supervision-0.26.0.\n"
          ]
        },
        {
          "output_type": "stream",
          "name": "stdout",
          "text": [
            "failed to redner model response\n"
          ]
        },
        {
          "output_type": "stream",
          "name": "stderr",
          "text": [
            "BoundingBoxAnnotator is deprecated: `BoundingBoxAnnotator` is deprecated and has been renamed to `BoxAnnotator`. `BoundingBoxAnnotator` will be removed in supervision-0.26.0.\n"
          ]
        },
        {
          "output_type": "stream",
          "name": "stdout",
          "text": [
            "failed to redner model response\n",
            "failed to redner model response\n"
          ]
        },
        {
          "output_type": "stream",
          "name": "stderr",
          "text": [
            "BoundingBoxAnnotator is deprecated: `BoundingBoxAnnotator` is deprecated and has been renamed to `BoxAnnotator`. `BoundingBoxAnnotator` will be removed in supervision-0.26.0.\n"
          ]
        },
        {
          "output_type": "display_data",
          "data": {
            "text/plain": [
              "<IPython.core.display.HTML object>"
            ],
            "text/html": [
              "\n",
              "\n",
              "    \n",
              "    {&quot;&lt;OD&gt;&quot;: {&quot;bboxes&quot;: [[495.4049987792969, 256.1130065917969, 834.7650146484375, 531.531005859375], [567.114990234375, 208.06500244140625, 671.14501953125, 265.5509948730469], [913.5449829101562, 192.62100219726562, 997.375, 220.07699584960938], [774.1649780273438, 199.48500061035156, 826.6849975585938, 227.7989959716797], [796.385009765625, 192.62100219726562, 839.8150024414062, 208.92298889160156], [715.5850219726562, 450.8789978027344, 765.0750122070312, 531.531005859375], [799.4149780273438, 386.52899169921875, 831.7349853515625, 441.44097900390625]], &quot;labels&quot;: [&quot;car&quot;, &quot;car&quot;, &quot;car&quot;, &quot;car&quot;, &quot;car&quot;, &quot;wheel&quot;, &quot;wheel&quot;]}}\n",
              "\n",
              "\n",
              "\n",
              "    \n",
              "    {&quot;&lt;OD&gt;&quot;: {&quot;bboxes&quot;: [[244.38751220703125, 73.31300354003906, 608.2125244140625, 271.7409973144531], [900.9874877929688, 0.4390000104904175, 1128.8375244140625, 83.8489990234375], [67.98750305175781, 39.94900131225586, 230.91250610351562, 130.38299560546875], [1038.1875, 0.4390000104904175, 1148.4375, 21.51099967956543], [0.612500011920929, 46.972999572753906, 17.762500762939453, 99.65299987792969], [48.38750076293945, 0.4390000104904175, 94.9375, 15.36500072479248], [417.1125183105469, 200.6230010986328, 494.2875061035156, 269.10699462890625], [259.0874938964844, 168.1370086669922, 311.76251220703125, 229.5970001220703], [1054.112548828125, 53.11899948120117, 1092.0875244140625, 82.97100067138672], [915.6875, 29.413000106811523, 952.4375, 57.509002685546875], [129.2375030517578, 102.28700256347656, 159.8625030517578, 130.38299560546875], [70.4375, 95.26300048828125, 96.1624984741211, 124.23699951171875], [1116.5875244140625, 2.195000171661377, 1143.5374755859375, 21.51099967956543], [1046.7625732421875, 0.4390000104904175, 1073.7125244140625, 9.218999862670898]], &quot;labels&quot;: [&quot;car&quot;, &quot;car&quot;, &quot;car&quot;, &quot;car&quot;, &quot;car&quot;, &quot;car&quot;, &quot;wheel&quot;, &quot;wheel&quot;, &quot;wheel&quot;, &quot;wheel&quot;, &quot;wheel&quot;, &quot;wheel&quot;, &quot;wheel&quot;, &quot;wheel&quot;]}}\n",
              "\n",
              "\n",
              "\n",
              "    \n",
              "    {&quot;&lt;OD&gt;&quot;: {&quot;bboxes&quot;: [[140.55950927734375, 261.5135192871094, 453.072509765625, 435.23651123046875], [1287.8675537109375, 322.8275146484375, 1357.79052734375, 353.4844970703125], [364.5985107421875, 219.70851135253906, 441.6565246582031, 242.93350219726562], [1359.217529296875, 332.11749267578125, 1420.5784912109375, 357.20050048828125], [1175.134521484375, 301.46051025390625, 1233.6414794921875, 320.9695129394531]], &quot;labels&quot;: [&quot;car&quot;, &quot;car&quot;, &quot;car&quot;, &quot;car&quot;, &quot;car&quot;]}}\n",
              "\n"
            ]
          },
          "metadata": {}
        },
        {
          "output_type": "stream",
          "name": "stderr",
          "text": [
            "Training Epoch 5/10: 100%|██████████| 2/2 [00:01<00:00,  1.24it/s]\n"
          ]
        },
        {
          "output_type": "stream",
          "name": "stdout",
          "text": [
            "Average Training Loss: 8.51333475112915\n"
          ]
        },
        {
          "output_type": "stream",
          "name": "stderr",
          "text": [
            "Validation Epoch 5/10: 100%|██████████| 1/1 [00:00<00:00,  2.81it/s]\n"
          ]
        },
        {
          "output_type": "stream",
          "name": "stdout",
          "text": [
            "Average Validation Loss: 9.19127368927002\n"
          ]
        },
        {
          "output_type": "stream",
          "name": "stderr",
          "text": [
            "BoundingBoxAnnotator is deprecated: `BoundingBoxAnnotator` is deprecated and has been renamed to `BoxAnnotator`. `BoundingBoxAnnotator` will be removed in supervision-0.26.0.\n"
          ]
        },
        {
          "output_type": "stream",
          "name": "stdout",
          "text": [
            "failed to redner model response\n"
          ]
        },
        {
          "output_type": "stream",
          "name": "stderr",
          "text": [
            "BoundingBoxAnnotator is deprecated: `BoundingBoxAnnotator` is deprecated and has been renamed to `BoxAnnotator`. `BoundingBoxAnnotator` will be removed in supervision-0.26.0.\n"
          ]
        },
        {
          "output_type": "stream",
          "name": "stdout",
          "text": [
            "failed to redner model response\n",
            "failed to redner model response\n"
          ]
        },
        {
          "output_type": "stream",
          "name": "stderr",
          "text": [
            "BoundingBoxAnnotator is deprecated: `BoundingBoxAnnotator` is deprecated and has been renamed to `BoxAnnotator`. `BoundingBoxAnnotator` will be removed in supervision-0.26.0.\n"
          ]
        },
        {
          "output_type": "display_data",
          "data": {
            "text/plain": [
              "<IPython.core.display.HTML object>"
            ],
            "text/html": [
              "\n",
              "\n",
              "    \n",
              "    {&quot;&lt;OD&gt;&quot;: {&quot;bboxes&quot;: [[495.4049987792969, 256.1130065917969, 834.7650146484375, 531.531005859375], [567.114990234375, 208.06500244140625, 671.14501953125, 265.5509948730469], [913.5449829101562, 192.62100219726562, 997.375, 220.07699584960938], [774.1649780273438, 199.48500061035156, 826.6849975585938, 227.7989959716797], [796.385009765625, 192.62100219726562, 839.8150024414062, 208.92298889160156], [715.5850219726562, 450.8789978027344, 765.0750122070312, 531.531005859375], [799.4149780273438, 386.52899169921875, 831.7349853515625, 441.44097900390625]], &quot;labels&quot;: [&quot;car&quot;, &quot;car&quot;, &quot;car&quot;, &quot;car&quot;, &quot;car&quot;, &quot;wheel&quot;, &quot;wheel&quot;]}}\n",
              "\n",
              "\n",
              "\n",
              "    \n",
              "    {&quot;&lt;OD&gt;&quot;: {&quot;bboxes&quot;: [[244.38751220703125, 73.31300354003906, 608.2125244140625, 271.7409973144531], [900.9874877929688, 0.4390000104904175, 1128.8375244140625, 83.8489990234375], [67.98750305175781, 39.94900131225586, 230.91250610351562, 130.38299560546875], [1038.1875, 0.4390000104904175, 1148.4375, 21.51099967956543], [0.612500011920929, 46.972999572753906, 17.762500762939453, 99.65299987792969], [48.38750076293945, 0.4390000104904175, 94.9375, 15.36500072479248], [417.1125183105469, 200.6230010986328, 494.2875061035156, 269.10699462890625], [259.0874938964844, 168.1370086669922, 311.76251220703125, 229.5970001220703], [1054.112548828125, 53.11899948120117, 1092.0875244140625, 82.97100067138672], [915.6875, 29.413000106811523, 952.4375, 57.509002685546875], [129.2375030517578, 102.28700256347656, 159.8625030517578, 130.38299560546875], [70.4375, 95.26300048828125, 96.1624984741211, 124.23699951171875], [1116.5875244140625, 2.195000171661377, 1143.5374755859375, 21.51099967956543], [1046.7625732421875, 0.4390000104904175, 1073.7125244140625, 9.218999862670898]], &quot;labels&quot;: [&quot;car&quot;, &quot;car&quot;, &quot;car&quot;, &quot;car&quot;, &quot;car&quot;, &quot;car&quot;, &quot;wheel&quot;, &quot;wheel&quot;, &quot;wheel&quot;, &quot;wheel&quot;, &quot;wheel&quot;, &quot;wheel&quot;, &quot;wheel&quot;, &quot;wheel&quot;]}}\n",
              "\n",
              "\n",
              "\n",
              "    \n",
              "    {&quot;&lt;OD&gt;&quot;: {&quot;bboxes&quot;: [[140.55950927734375, 261.5135192871094, 453.072509765625, 435.23651123046875], [1287.8675537109375, 322.8275146484375, 1357.79052734375, 353.4844970703125], [364.5985107421875, 219.70851135253906, 441.6565246582031, 242.93350219726562], [1359.217529296875, 332.11749267578125, 1420.5784912109375, 357.20050048828125], [1175.134521484375, 301.46051025390625, 1233.6414794921875, 320.9695129394531]], &quot;labels&quot;: [&quot;car&quot;, &quot;car&quot;, &quot;car&quot;, &quot;car&quot;, &quot;car&quot;]}}\n",
              "\n"
            ]
          },
          "metadata": {}
        },
        {
          "output_type": "stream",
          "name": "stderr",
          "text": [
            "Training Epoch 6/10: 100%|██████████| 2/2 [00:01<00:00,  1.24it/s]\n"
          ]
        },
        {
          "output_type": "stream",
          "name": "stdout",
          "text": [
            "Average Training Loss: 8.656352043151855\n"
          ]
        },
        {
          "output_type": "stream",
          "name": "stderr",
          "text": [
            "Validation Epoch 6/10: 100%|██████████| 1/1 [00:00<00:00,  2.83it/s]\n"
          ]
        },
        {
          "output_type": "stream",
          "name": "stdout",
          "text": [
            "Average Validation Loss: 9.158478736877441\n"
          ]
        },
        {
          "output_type": "stream",
          "name": "stderr",
          "text": [
            "BoundingBoxAnnotator is deprecated: `BoundingBoxAnnotator` is deprecated and has been renamed to `BoxAnnotator`. `BoundingBoxAnnotator` will be removed in supervision-0.26.0.\n"
          ]
        },
        {
          "output_type": "stream",
          "name": "stdout",
          "text": [
            "failed to redner model response\n"
          ]
        },
        {
          "output_type": "stream",
          "name": "stderr",
          "text": [
            "BoundingBoxAnnotator is deprecated: `BoundingBoxAnnotator` is deprecated and has been renamed to `BoxAnnotator`. `BoundingBoxAnnotator` will be removed in supervision-0.26.0.\n"
          ]
        },
        {
          "output_type": "stream",
          "name": "stdout",
          "text": [
            "failed to redner model response\n",
            "failed to redner model response\n"
          ]
        },
        {
          "output_type": "stream",
          "name": "stderr",
          "text": [
            "BoundingBoxAnnotator is deprecated: `BoundingBoxAnnotator` is deprecated and has been renamed to `BoxAnnotator`. `BoundingBoxAnnotator` will be removed in supervision-0.26.0.\n"
          ]
        },
        {
          "output_type": "display_data",
          "data": {
            "text/plain": [
              "<IPython.core.display.HTML object>"
            ],
            "text/html": [
              "\n",
              "\n",
              "    \n",
              "    {&quot;&lt;OD&gt;&quot;: {&quot;bboxes&quot;: [[495.4049987792969, 256.1130065917969, 834.7650146484375, 531.531005859375], [567.114990234375, 208.06500244140625, 671.14501953125, 265.5509948730469], [913.5449829101562, 192.62100219726562, 997.375, 220.07699584960938], [774.1649780273438, 199.48500061035156, 826.6849975585938, 227.7989959716797], [796.385009765625, 192.62100219726562, 839.8150024414062, 208.92298889160156], [715.5850219726562, 450.8789978027344, 765.0750122070312, 531.531005859375], [799.4149780273438, 386.52899169921875, 831.7349853515625, 441.44097900390625]], &quot;labels&quot;: [&quot;car&quot;, &quot;car&quot;, &quot;car&quot;, &quot;car&quot;, &quot;car&quot;, &quot;wheel&quot;, &quot;wheel&quot;]}}\n",
              "\n",
              "\n",
              "\n",
              "    \n",
              "    {&quot;&lt;OD&gt;&quot;: {&quot;bboxes&quot;: [[244.38751220703125, 73.31300354003906, 608.2125244140625, 271.7409973144531], [900.9874877929688, 0.4390000104904175, 1128.8375244140625, 83.8489990234375], [67.98750305175781, 39.94900131225586, 230.91250610351562, 130.38299560546875], [1038.1875, 0.4390000104904175, 1148.4375, 21.51099967956543], [0.612500011920929, 46.972999572753906, 17.762500762939453, 99.65299987792969], [48.38750076293945, 0.4390000104904175, 94.9375, 15.36500072479248], [417.1125183105469, 200.6230010986328, 494.2875061035156, 269.10699462890625], [259.0874938964844, 168.1370086669922, 311.76251220703125, 229.5970001220703], [1054.112548828125, 53.11899948120117, 1092.0875244140625, 82.97100067138672], [915.6875, 29.413000106811523, 952.4375, 57.509002685546875], [129.2375030517578, 102.28700256347656, 159.8625030517578, 130.38299560546875], [70.4375, 95.26300048828125, 96.1624984741211, 124.23699951171875], [1116.5875244140625, 2.195000171661377, 1143.5374755859375, 21.51099967956543], [1046.7625732421875, 0.4390000104904175, 1073.7125244140625, 9.218999862670898]], &quot;labels&quot;: [&quot;car&quot;, &quot;car&quot;, &quot;car&quot;, &quot;car&quot;, &quot;car&quot;, &quot;car&quot;, &quot;wheel&quot;, &quot;wheel&quot;, &quot;wheel&quot;, &quot;wheel&quot;, &quot;wheel&quot;, &quot;wheel&quot;, &quot;wheel&quot;, &quot;wheel&quot;]}}\n",
              "\n",
              "\n",
              "\n",
              "    \n",
              "    {&quot;&lt;OD&gt;&quot;: {&quot;bboxes&quot;: [[140.55950927734375, 261.5135192871094, 453.072509765625, 435.23651123046875], [1287.8675537109375, 322.8275146484375, 1359.217529296875, 354.41351318359375], [364.5985107421875, 219.70851135253906, 441.6565246582031, 242.93350219726562], [1359.217529296875, 332.11749267578125, 1420.5784912109375, 357.20050048828125], [1175.134521484375, 301.46051025390625, 1233.6414794921875, 320.9695129394531]], &quot;labels&quot;: [&quot;car&quot;, &quot;car&quot;, &quot;car&quot;, &quot;car&quot;, &quot;car&quot;]}}\n",
              "\n"
            ]
          },
          "metadata": {}
        },
        {
          "output_type": "stream",
          "name": "stderr",
          "text": [
            "Training Epoch 7/10: 100%|██████████| 2/2 [00:01<00:00,  1.23it/s]\n"
          ]
        },
        {
          "output_type": "stream",
          "name": "stdout",
          "text": [
            "Average Training Loss: 8.449559688568115\n"
          ]
        },
        {
          "output_type": "stream",
          "name": "stderr",
          "text": [
            "Validation Epoch 7/10: 100%|██████████| 1/1 [00:00<00:00,  2.80it/s]\n"
          ]
        },
        {
          "output_type": "stream",
          "name": "stdout",
          "text": [
            "Average Validation Loss: 9.132861137390137\n"
          ]
        },
        {
          "output_type": "stream",
          "name": "stderr",
          "text": [
            "BoundingBoxAnnotator is deprecated: `BoundingBoxAnnotator` is deprecated and has been renamed to `BoxAnnotator`. `BoundingBoxAnnotator` will be removed in supervision-0.26.0.\n"
          ]
        },
        {
          "output_type": "stream",
          "name": "stdout",
          "text": [
            "failed to redner model response\n"
          ]
        },
        {
          "output_type": "stream",
          "name": "stderr",
          "text": [
            "BoundingBoxAnnotator is deprecated: `BoundingBoxAnnotator` is deprecated and has been renamed to `BoxAnnotator`. `BoundingBoxAnnotator` will be removed in supervision-0.26.0.\n"
          ]
        },
        {
          "output_type": "stream",
          "name": "stdout",
          "text": [
            "failed to redner model response\n",
            "failed to redner model response\n"
          ]
        },
        {
          "output_type": "stream",
          "name": "stderr",
          "text": [
            "BoundingBoxAnnotator is deprecated: `BoundingBoxAnnotator` is deprecated and has been renamed to `BoxAnnotator`. `BoundingBoxAnnotator` will be removed in supervision-0.26.0.\n"
          ]
        },
        {
          "output_type": "display_data",
          "data": {
            "text/plain": [
              "<IPython.core.display.HTML object>"
            ],
            "text/html": [
              "\n",
              "\n",
              "    \n",
              "    {&quot;&lt;OD&gt;&quot;: {&quot;bboxes&quot;: [[495.4049987792969, 256.1130065917969, 834.7650146484375, 531.531005859375], [567.114990234375, 208.06500244140625, 671.14501953125, 265.5509948730469], [913.5449829101562, 191.76300048828125, 997.375, 220.07699584960938], [774.1649780273438, 199.48500061035156, 827.6950073242188, 227.7989959716797], [795.375, 192.62100219726562, 839.8150024414062, 208.92298889160156], [715.5850219726562, 450.8789978027344, 765.0750122070312, 531.531005859375], [799.4149780273438, 386.52899169921875, 831.7349853515625, 441.44097900390625]], &quot;labels&quot;: [&quot;car&quot;, &quot;car&quot;, &quot;car&quot;, &quot;car&quot;, &quot;car&quot;, &quot;wheel&quot;, &quot;wheel&quot;]}}\n",
              "\n",
              "\n",
              "\n",
              "    \n",
              "    {&quot;&lt;OD&gt;&quot;: {&quot;bboxes&quot;: [[244.38751220703125, 73.31300354003906, 608.2125244140625, 271.7409973144531], [900.9874877929688, 0.4390000104904175, 1128.8375244140625, 83.8489990234375], [67.98750305175781, 39.94900131225586, 230.91250610351562, 130.38299560546875], [1038.1875, 0.4390000104904175, 1148.4375, 21.51099967956543], [0.612500011920929, 46.972999572753906, 17.762500762939453, 99.65299987792969], [48.38750076293945, 0.4390000104904175, 94.9375, 15.36500072479248], [417.1125183105469, 200.6230010986328, 494.2875061035156, 269.10699462890625], [259.0874938964844, 168.1370086669922, 311.76251220703125, 229.5970001220703], [1054.112548828125, 53.11899948120117, 1092.0875244140625, 82.97100067138672], [915.6875, 29.413000106811523, 952.4375, 57.509002685546875], [129.2375030517578, 102.28700256347656, 159.8625030517578, 130.38299560546875], [70.4375, 95.26300048828125, 96.1624984741211, 124.23699951171875], [1116.5875244140625, 2.195000171661377, 1143.5374755859375, 21.51099967956543], [1046.7625732421875, 0.4390000104904175, 1073.7125244140625, 9.218999862670898]], &quot;labels&quot;: [&quot;car&quot;, &quot;car&quot;, &quot;car&quot;, &quot;car&quot;, &quot;car&quot;, &quot;car&quot;, &quot;wheel&quot;, &quot;wheel&quot;, &quot;wheel&quot;, &quot;wheel&quot;, &quot;wheel&quot;, &quot;wheel&quot;, &quot;wheel&quot;, &quot;wheel&quot;]}}\n",
              "\n",
              "\n",
              "\n",
              "    \n",
              "    {&quot;&lt;OD&gt;&quot;: {&quot;bboxes&quot;: [[140.55950927734375, 261.5135192871094, 453.072509765625, 435.23651123046875], [1287.8675537109375, 322.8275146484375, 1359.217529296875, 354.41351318359375], [364.5985107421875, 219.70851135253906, 441.6565246582031, 242.93350219726562], [1359.217529296875, 332.11749267578125, 1420.5784912109375, 357.20050048828125], [1175.134521484375, 301.46051025390625, 1233.6414794921875, 320.9695129394531]], &quot;labels&quot;: [&quot;car&quot;, &quot;car&quot;, &quot;car&quot;, &quot;car&quot;, &quot;car&quot;]}}\n",
              "\n"
            ]
          },
          "metadata": {}
        },
        {
          "output_type": "stream",
          "name": "stderr",
          "text": [
            "Training Epoch 8/10: 100%|██████████| 2/2 [00:01<00:00,  1.25it/s]\n"
          ]
        },
        {
          "output_type": "stream",
          "name": "stdout",
          "text": [
            "Average Training Loss: 7.6176886558532715\n"
          ]
        },
        {
          "output_type": "stream",
          "name": "stderr",
          "text": [
            "Validation Epoch 8/10: 100%|██████████| 1/1 [00:00<00:00,  2.84it/s]\n"
          ]
        },
        {
          "output_type": "stream",
          "name": "stdout",
          "text": [
            "Average Validation Loss: 9.11455249786377\n"
          ]
        },
        {
          "output_type": "stream",
          "name": "stderr",
          "text": [
            "BoundingBoxAnnotator is deprecated: `BoundingBoxAnnotator` is deprecated and has been renamed to `BoxAnnotator`. `BoundingBoxAnnotator` will be removed in supervision-0.26.0.\n"
          ]
        },
        {
          "output_type": "stream",
          "name": "stdout",
          "text": [
            "failed to redner model response\n"
          ]
        },
        {
          "output_type": "stream",
          "name": "stderr",
          "text": [
            "BoundingBoxAnnotator is deprecated: `BoundingBoxAnnotator` is deprecated and has been renamed to `BoxAnnotator`. `BoundingBoxAnnotator` will be removed in supervision-0.26.0.\n"
          ]
        },
        {
          "output_type": "stream",
          "name": "stdout",
          "text": [
            "failed to redner model response\n",
            "failed to redner model response\n"
          ]
        },
        {
          "output_type": "stream",
          "name": "stderr",
          "text": [
            "BoundingBoxAnnotator is deprecated: `BoundingBoxAnnotator` is deprecated and has been renamed to `BoxAnnotator`. `BoundingBoxAnnotator` will be removed in supervision-0.26.0.\n"
          ]
        },
        {
          "output_type": "display_data",
          "data": {
            "text/plain": [
              "<IPython.core.display.HTML object>"
            ],
            "text/html": [
              "\n",
              "\n",
              "    \n",
              "    {&quot;&lt;OD&gt;&quot;: {&quot;bboxes&quot;: [[495.4049987792969, 256.1130065917969, 834.7650146484375, 531.531005859375], [567.114990234375, 208.06500244140625, 671.14501953125, 265.5509948730469], [913.5449829101562, 191.76300048828125, 997.375, 220.07699584960938], [774.1649780273438, 199.48500061035156, 827.6950073242188, 227.7989959716797], [795.375, 192.62100219726562, 839.8150024414062, 208.92298889160156], [715.5850219726562, 450.8789978027344, 765.0750122070312, 531.531005859375], [799.4149780273438, 386.52899169921875, 831.7349853515625, 441.44097900390625]], &quot;labels&quot;: [&quot;car&quot;, &quot;car&quot;, &quot;car&quot;, &quot;car&quot;, &quot;car&quot;, &quot;wheel&quot;, &quot;wheel&quot;]}}\n",
              "\n",
              "\n",
              "\n",
              "    \n",
              "    {&quot;&lt;OD&gt;&quot;: {&quot;bboxes&quot;: [[244.38751220703125, 73.31300354003906, 608.2125244140625, 271.7409973144531], [900.9874877929688, 0.4390000104904175, 1128.8375244140625, 83.8489990234375], [67.98750305175781, 39.94900131225586, 230.91250610351562, 130.38299560546875], [1038.1875, 0.4390000104904175, 1148.4375, 21.51099967956543], [0.612500011920929, 46.972999572753906, 17.762500762939453, 99.65299987792969], [48.38750076293945, 0.4390000104904175, 94.9375, 15.36500072479248], [417.1125183105469, 200.6230010986328, 494.2875061035156, 269.10699462890625], [259.0874938964844, 168.1370086669922, 311.76251220703125, 229.5970001220703], [1054.112548828125, 53.11899948120117, 1092.0875244140625, 82.97100067138672], [915.6875, 29.413000106811523, 952.4375, 57.509002685546875], [129.2375030517578, 102.28700256347656, 159.8625030517578, 130.38299560546875], [70.4375, 95.26300048828125, 96.1624984741211, 124.23699951171875], [1116.5875244140625, 2.195000171661377, 1143.5374755859375, 21.51099967956543], [1046.7625732421875, 0.4390000104904175, 1073.7125244140625, 9.218999862670898]], &quot;labels&quot;: [&quot;car&quot;, &quot;car&quot;, &quot;car&quot;, &quot;car&quot;, &quot;car&quot;, &quot;car&quot;, &quot;wheel&quot;, &quot;wheel&quot;, &quot;wheel&quot;, &quot;wheel&quot;, &quot;wheel&quot;, &quot;wheel&quot;, &quot;wheel&quot;, &quot;wheel&quot;]}}\n",
              "\n",
              "\n",
              "\n",
              "    \n",
              "    {&quot;&lt;OD&gt;&quot;: {&quot;bboxes&quot;: [[140.55950927734375, 261.5135192871094, 453.072509765625, 435.23651123046875], [1287.8675537109375, 322.8275146484375, 1359.217529296875, 354.41351318359375], [364.5985107421875, 219.70851135253906, 441.6565246582031, 242.93350219726562], [1359.217529296875, 332.11749267578125, 1420.5784912109375, 357.20050048828125], [1175.134521484375, 301.46051025390625, 1233.6414794921875, 320.9695129394531]], &quot;labels&quot;: [&quot;car&quot;, &quot;car&quot;, &quot;car&quot;, &quot;car&quot;, &quot;car&quot;]}}\n",
              "\n"
            ]
          },
          "metadata": {}
        },
        {
          "output_type": "stream",
          "name": "stderr",
          "text": [
            "Training Epoch 9/10: 100%|██████████| 2/2 [00:01<00:00,  1.21it/s]\n"
          ]
        },
        {
          "output_type": "stream",
          "name": "stdout",
          "text": [
            "Average Training Loss: 8.465206146240234\n"
          ]
        },
        {
          "output_type": "stream",
          "name": "stderr",
          "text": [
            "Validation Epoch 9/10: 100%|██████████| 1/1 [00:00<00:00,  2.82it/s]\n"
          ]
        },
        {
          "output_type": "stream",
          "name": "stdout",
          "text": [
            "Average Validation Loss: 9.102993965148926\n"
          ]
        },
        {
          "output_type": "stream",
          "name": "stderr",
          "text": [
            "BoundingBoxAnnotator is deprecated: `BoundingBoxAnnotator` is deprecated and has been renamed to `BoxAnnotator`. `BoundingBoxAnnotator` will be removed in supervision-0.26.0.\n"
          ]
        },
        {
          "output_type": "stream",
          "name": "stdout",
          "text": [
            "failed to redner model response\n"
          ]
        },
        {
          "output_type": "stream",
          "name": "stderr",
          "text": [
            "BoundingBoxAnnotator is deprecated: `BoundingBoxAnnotator` is deprecated and has been renamed to `BoxAnnotator`. `BoundingBoxAnnotator` will be removed in supervision-0.26.0.\n"
          ]
        },
        {
          "output_type": "stream",
          "name": "stdout",
          "text": [
            "failed to redner model response\n",
            "failed to redner model response\n"
          ]
        },
        {
          "output_type": "stream",
          "name": "stderr",
          "text": [
            "BoundingBoxAnnotator is deprecated: `BoundingBoxAnnotator` is deprecated and has been renamed to `BoxAnnotator`. `BoundingBoxAnnotator` will be removed in supervision-0.26.0.\n"
          ]
        },
        {
          "output_type": "display_data",
          "data": {
            "text/plain": [
              "<IPython.core.display.HTML object>"
            ],
            "text/html": [
              "\n",
              "\n",
              "    \n",
              "    {&quot;&lt;OD&gt;&quot;: {&quot;bboxes&quot;: [[495.4049987792969, 256.1130065917969, 834.7650146484375, 531.531005859375], [567.114990234375, 208.06500244140625, 671.14501953125, 265.5509948730469], [913.5449829101562, 191.76300048828125, 997.375, 220.07699584960938], [774.1649780273438, 199.48500061035156, 827.6950073242188, 227.7989959716797], [795.375, 192.62100219726562, 839.8150024414062, 208.92298889160156], [715.5850219726562, 450.8789978027344, 765.0750122070312, 531.531005859375], [799.4149780273438, 386.52899169921875, 831.7349853515625, 441.44097900390625]], &quot;labels&quot;: [&quot;car&quot;, &quot;car&quot;, &quot;car&quot;, &quot;car&quot;, &quot;car&quot;, &quot;wheel&quot;, &quot;wheel&quot;]}}\n",
              "\n",
              "\n",
              "\n",
              "    \n",
              "    {&quot;&lt;OD&gt;&quot;: {&quot;bboxes&quot;: [[244.38751220703125, 73.31300354003906, 608.2125244140625, 271.7409973144531], [900.9874877929688, 0.4390000104904175, 1128.8375244140625, 83.8489990234375], [67.98750305175781, 39.94900131225586, 230.91250610351562, 130.38299560546875], [1038.1875, 0.4390000104904175, 1148.4375, 21.51099967956543], [0.612500011920929, 46.972999572753906, 17.762500762939453, 99.65299987792969], [48.38750076293945, 0.4390000104904175, 94.9375, 15.36500072479248], [417.1125183105469, 200.6230010986328, 494.2875061035156, 269.10699462890625], [259.0874938964844, 168.1370086669922, 311.76251220703125, 229.5970001220703], [1054.112548828125, 53.11899948120117, 1092.0875244140625, 82.97100067138672], [915.6875, 29.413000106811523, 952.4375, 57.509002685546875], [129.2375030517578, 102.28700256347656, 159.8625030517578, 130.38299560546875], [70.4375, 95.26300048828125, 96.1624984741211, 124.23699951171875], [1116.5875244140625, 2.195000171661377, 1143.5374755859375, 21.51099967956543], [1046.7625732421875, 0.4390000104904175, 1073.7125244140625, 9.218999862670898]], &quot;labels&quot;: [&quot;car&quot;, &quot;car&quot;, &quot;car&quot;, &quot;car&quot;, &quot;car&quot;, &quot;car&quot;, &quot;wheel&quot;, &quot;wheel&quot;, &quot;wheel&quot;, &quot;wheel&quot;, &quot;wheel&quot;, &quot;wheel&quot;, &quot;wheel&quot;, &quot;wheel&quot;]}}\n",
              "\n",
              "\n",
              "\n",
              "    \n",
              "    {&quot;&lt;OD&gt;&quot;: {&quot;bboxes&quot;: [[140.55950927734375, 261.5135192871094, 453.072509765625, 435.23651123046875], [1287.8675537109375, 322.8275146484375, 1359.217529296875, 354.41351318359375], [364.5985107421875, 219.70851135253906, 441.6565246582031, 242.93350219726562], [1359.217529296875, 332.11749267578125, 1420.5784912109375, 357.20050048828125], [1175.134521484375, 301.46051025390625, 1233.6414794921875, 320.9695129394531]], &quot;labels&quot;: [&quot;car&quot;, &quot;car&quot;, &quot;car&quot;, &quot;car&quot;, &quot;car&quot;]}}\n",
              "\n"
            ]
          },
          "metadata": {}
        },
        {
          "output_type": "stream",
          "name": "stderr",
          "text": [
            "Training Epoch 10/10: 100%|██████████| 2/2 [00:01<00:00,  1.23it/s]\n"
          ]
        },
        {
          "output_type": "stream",
          "name": "stdout",
          "text": [
            "Average Training Loss: 8.260792255401611\n"
          ]
        },
        {
          "output_type": "stream",
          "name": "stderr",
          "text": [
            "Validation Epoch 10/10: 100%|██████████| 1/1 [00:00<00:00,  2.78it/s]\n"
          ]
        },
        {
          "output_type": "stream",
          "name": "stdout",
          "text": [
            "Average Validation Loss: 9.097969055175781\n"
          ]
        },
        {
          "output_type": "stream",
          "name": "stderr",
          "text": [
            "BoundingBoxAnnotator is deprecated: `BoundingBoxAnnotator` is deprecated and has been renamed to `BoxAnnotator`. `BoundingBoxAnnotator` will be removed in supervision-0.26.0.\n"
          ]
        },
        {
          "output_type": "stream",
          "name": "stdout",
          "text": [
            "failed to redner model response\n"
          ]
        },
        {
          "output_type": "stream",
          "name": "stderr",
          "text": [
            "BoundingBoxAnnotator is deprecated: `BoundingBoxAnnotator` is deprecated and has been renamed to `BoxAnnotator`. `BoundingBoxAnnotator` will be removed in supervision-0.26.0.\n"
          ]
        },
        {
          "output_type": "stream",
          "name": "stdout",
          "text": [
            "failed to redner model response\n",
            "failed to redner model response\n"
          ]
        },
        {
          "output_type": "stream",
          "name": "stderr",
          "text": [
            "BoundingBoxAnnotator is deprecated: `BoundingBoxAnnotator` is deprecated and has been renamed to `BoxAnnotator`. `BoundingBoxAnnotator` will be removed in supervision-0.26.0.\n"
          ]
        },
        {
          "output_type": "display_data",
          "data": {
            "text/plain": [
              "<IPython.core.display.HTML object>"
            ],
            "text/html": [
              "\n",
              "\n",
              "    \n",
              "    {&quot;&lt;OD&gt;&quot;: {&quot;bboxes&quot;: [[495.4049987792969, 256.1130065917969, 834.7650146484375, 531.531005859375], [567.114990234375, 208.06500244140625, 671.14501953125, 265.5509948730469], [913.5449829101562, 191.76300048828125, 997.375, 220.07699584960938], [774.1649780273438, 199.48500061035156, 827.6950073242188, 227.7989959716797], [795.375, 192.62100219726562, 839.8150024414062, 208.92298889160156], [715.5850219726562, 450.8789978027344, 765.0750122070312, 531.531005859375], [799.4149780273438, 386.52899169921875, 831.7349853515625, 441.44097900390625]], &quot;labels&quot;: [&quot;car&quot;, &quot;car&quot;, &quot;car&quot;, &quot;car&quot;, &quot;car&quot;, &quot;wheel&quot;, &quot;wheel&quot;]}}\n",
              "\n",
              "\n",
              "\n",
              "    \n",
              "    {&quot;&lt;OD&gt;&quot;: {&quot;bboxes&quot;: [[244.38751220703125, 73.31300354003906, 608.2125244140625, 271.7409973144531], [900.9874877929688, 0.4390000104904175, 1128.8375244140625, 83.8489990234375], [67.98750305175781, 39.94900131225586, 230.91250610351562, 130.38299560546875], [1038.1875, 0.4390000104904175, 1148.4375, 21.51099967956543], [0.612500011920929, 46.972999572753906, 17.762500762939453, 99.65299987792969], [48.38750076293945, 0.4390000104904175, 94.9375, 15.36500072479248], [417.1125183105469, 200.6230010986328, 494.2875061035156, 269.10699462890625], [259.0874938964844, 168.1370086669922, 311.76251220703125, 229.5970001220703], [1054.112548828125, 53.11899948120117, 1092.0875244140625, 82.97100067138672], [915.6875, 29.413000106811523, 952.4375, 57.509002685546875], [129.2375030517578, 102.28700256347656, 159.8625030517578, 130.38299560546875], [70.4375, 95.26300048828125, 96.1624984741211, 124.23699951171875], [1116.5875244140625, 2.195000171661377, 1143.5374755859375, 21.51099967956543], [1046.7625732421875, 0.4390000104904175, 1073.7125244140625, 9.218999862670898]], &quot;labels&quot;: [&quot;car&quot;, &quot;car&quot;, &quot;car&quot;, &quot;car&quot;, &quot;car&quot;, &quot;car&quot;, &quot;wheel&quot;, &quot;wheel&quot;, &quot;wheel&quot;, &quot;wheel&quot;, &quot;wheel&quot;, &quot;wheel&quot;, &quot;wheel&quot;, &quot;wheel&quot;]}}\n",
              "\n",
              "\n",
              "\n",
              "    \n",
              "    {&quot;&lt;OD&gt;&quot;: {&quot;bboxes&quot;: [[140.55950927734375, 261.5135192871094, 453.072509765625, 435.23651123046875], [1287.8675537109375, 322.8275146484375, 1359.217529296875, 354.41351318359375], [364.5985107421875, 219.70851135253906, 441.6565246582031, 242.93350219726562], [1359.217529296875, 332.11749267578125, 1420.5784912109375, 357.20050048828125], [1175.134521484375, 301.46051025390625, 1233.6414794921875, 320.9695129394531]], &quot;labels&quot;: [&quot;car&quot;, &quot;car&quot;, &quot;car&quot;, &quot;car&quot;, &quot;car&quot;]}}\n",
              "\n"
            ]
          },
          "metadata": {}
        },
        {
          "output_type": "stream",
          "name": "stdout",
          "text": [
            "CPU times: user 40.9 s, sys: 3.68 s, total: 44.6 s\n",
            "Wall time: 43.6 s\n"
          ]
        }
      ]
    },
    {
      "cell_type": "code",
      "source": [],
      "metadata": {
        "id": "2FAN4UyAVLXR"
      },
      "execution_count": null,
      "outputs": []
    },
    {
      "cell_type": "code",
      "source": [],
      "metadata": {
        "id": "3B_Aj3u2VLZg"
      },
      "execution_count": null,
      "outputs": []
    }
  ]
}